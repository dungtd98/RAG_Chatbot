{
 "cells": [
  {
   "cell_type": "markdown",
   "metadata": {},
   "source": [
    "# Install Package"
   ]
  },
  {
   "cell_type": "code",
   "execution_count": 41,
   "metadata": {},
   "outputs": [
    {
     "name": "stdout",
     "output_type": "stream",
     "text": [
      "Requirement already satisfied: langchain in d:\\code\\generative ai\\rag\\env\\lib\\site-packages (0.3.7)\n",
      "Requirement already satisfied: langchain_experimental in d:\\code\\generative ai\\rag\\env\\lib\\site-packages (0.3.3)\n",
      "Requirement already satisfied: langchain-openai in d:\\code\\generative ai\\rag\\env\\lib\\site-packages (0.2.8)\n",
      "Requirement already satisfied: langchain-qdrant in d:\\code\\generative ai\\rag\\env\\lib\\site-packages (0.2.0)\n",
      "Requirement already satisfied: pypdf in d:\\code\\generative ai\\rag\\env\\lib\\site-packages (5.1.0)\n",
      "Requirement already satisfied: sentence-transformers in d:\\code\\generative ai\\rag\\env\\lib\\site-packages (3.3.0)\n",
      "Requirement already satisfied: PyYAML>=5.3 in d:\\code\\generative ai\\rag\\env\\lib\\site-packages (from langchain) (6.0.2)\n",
      "Requirement already satisfied: SQLAlchemy<3,>=1.4 in d:\\code\\generative ai\\rag\\env\\lib\\site-packages (from langchain) (2.0.35)\n",
      "Requirement already satisfied: aiohttp<4.0.0,>=3.8.3 in d:\\code\\generative ai\\rag\\env\\lib\\site-packages (from langchain) (3.11.0)\n",
      "Requirement already satisfied: langchain-core<0.4.0,>=0.3.15 in d:\\code\\generative ai\\rag\\env\\lib\\site-packages (from langchain) (0.3.18)\n",
      "Requirement already satisfied: langchain-text-splitters<0.4.0,>=0.3.0 in d:\\code\\generative ai\\rag\\env\\lib\\site-packages (from langchain) (0.3.2)\n",
      "Requirement already satisfied: langsmith<0.2.0,>=0.1.17 in d:\\code\\generative ai\\rag\\env\\lib\\site-packages (from langchain) (0.1.143)\n",
      "Requirement already satisfied: numpy<2.0.0,>=1.26.0 in d:\\code\\generative ai\\rag\\env\\lib\\site-packages (from langchain) (1.26.4)\n",
      "Requirement already satisfied: pydantic<3.0.0,>=2.7.4 in d:\\code\\generative ai\\rag\\env\\lib\\site-packages (from langchain) (2.9.2)\n",
      "Requirement already satisfied: requests<3,>=2 in d:\\code\\generative ai\\rag\\env\\lib\\site-packages (from langchain) (2.32.3)\n",
      "Requirement already satisfied: tenacity!=8.4.0,<10,>=8.1.0 in d:\\code\\generative ai\\rag\\env\\lib\\site-packages (from langchain) (9.0.0)\n",
      "Requirement already satisfied: langchain-community<0.4.0,>=0.3.0 in d:\\code\\generative ai\\rag\\env\\lib\\site-packages (from langchain_experimental) (0.3.7)\n",
      "Requirement already satisfied: openai<2.0.0,>=1.54.0 in d:\\code\\generative ai\\rag\\env\\lib\\site-packages (from langchain-openai) (1.54.4)\n",
      "Requirement already satisfied: tiktoken<1,>=0.7 in d:\\code\\generative ai\\rag\\env\\lib\\site-packages (from langchain-openai) (0.8.0)\n",
      "Requirement already satisfied: qdrant-client<2.0.0,>=1.10.1 in d:\\code\\generative ai\\rag\\env\\lib\\site-packages (from langchain-qdrant) (1.12.1)\n",
      "Requirement already satisfied: transformers<5.0.0,>=4.41.0 in d:\\code\\generative ai\\rag\\env\\lib\\site-packages (from sentence-transformers) (4.46.2)\n",
      "Requirement already satisfied: tqdm in d:\\code\\generative ai\\rag\\env\\lib\\site-packages (from sentence-transformers) (4.67.0)\n",
      "Requirement already satisfied: torch>=1.11.0 in d:\\code\\generative ai\\rag\\env\\lib\\site-packages (from sentence-transformers) (2.5.1)\n",
      "Requirement already satisfied: scikit-learn in d:\\code\\generative ai\\rag\\env\\lib\\site-packages (from sentence-transformers) (1.5.2)\n",
      "Requirement already satisfied: scipy in d:\\code\\generative ai\\rag\\env\\lib\\site-packages (from sentence-transformers) (1.14.1)\n",
      "Requirement already satisfied: huggingface-hub>=0.20.0 in d:\\code\\generative ai\\rag\\env\\lib\\site-packages (from sentence-transformers) (0.26.2)\n",
      "Requirement already satisfied: Pillow in d:\\code\\generative ai\\rag\\env\\lib\\site-packages (from sentence-transformers) (11.0.0)\n",
      "Requirement already satisfied: aiohappyeyeballs>=2.3.0 in d:\\code\\generative ai\\rag\\env\\lib\\site-packages (from aiohttp<4.0.0,>=3.8.3->langchain) (2.4.3)\n",
      "Requirement already satisfied: aiosignal>=1.1.2 in d:\\code\\generative ai\\rag\\env\\lib\\site-packages (from aiohttp<4.0.0,>=3.8.3->langchain) (1.3.1)\n",
      "Requirement already satisfied: attrs>=17.3.0 in d:\\code\\generative ai\\rag\\env\\lib\\site-packages (from aiohttp<4.0.0,>=3.8.3->langchain) (24.2.0)\n",
      "Requirement already satisfied: frozenlist>=1.1.1 in d:\\code\\generative ai\\rag\\env\\lib\\site-packages (from aiohttp<4.0.0,>=3.8.3->langchain) (1.5.0)\n",
      "Requirement already satisfied: multidict<7.0,>=4.5 in d:\\code\\generative ai\\rag\\env\\lib\\site-packages (from aiohttp<4.0.0,>=3.8.3->langchain) (6.1.0)\n",
      "Requirement already satisfied: propcache>=0.2.0 in d:\\code\\generative ai\\rag\\env\\lib\\site-packages (from aiohttp<4.0.0,>=3.8.3->langchain) (0.2.0)\n",
      "Requirement already satisfied: yarl<2.0,>=1.17.0 in d:\\code\\generative ai\\rag\\env\\lib\\site-packages (from aiohttp<4.0.0,>=3.8.3->langchain) (1.17.1)\n",
      "Requirement already satisfied: filelock in d:\\code\\generative ai\\rag\\env\\lib\\site-packages (from huggingface-hub>=0.20.0->sentence-transformers) (3.16.1)\n",
      "Requirement already satisfied: fsspec>=2023.5.0 in d:\\code\\generative ai\\rag\\env\\lib\\site-packages (from huggingface-hub>=0.20.0->sentence-transformers) (2024.10.0)\n",
      "Requirement already satisfied: packaging>=20.9 in d:\\code\\generative ai\\rag\\env\\lib\\site-packages (from huggingface-hub>=0.20.0->sentence-transformers) (24.2)\n",
      "Requirement already satisfied: typing-extensions>=3.7.4.3 in d:\\code\\generative ai\\rag\\env\\lib\\site-packages (from huggingface-hub>=0.20.0->sentence-transformers) (4.12.2)\n",
      "Requirement already satisfied: dataclasses-json<0.7,>=0.5.7 in d:\\code\\generative ai\\rag\\env\\lib\\site-packages (from langchain-community<0.4.0,>=0.3.0->langchain_experimental) (0.6.7)\n",
      "Requirement already satisfied: httpx-sse<0.5.0,>=0.4.0 in d:\\code\\generative ai\\rag\\env\\lib\\site-packages (from langchain-community<0.4.0,>=0.3.0->langchain_experimental) (0.4.0)\n",
      "Requirement already satisfied: pydantic-settings<3.0.0,>=2.4.0 in d:\\code\\generative ai\\rag\\env\\lib\\site-packages (from langchain-community<0.4.0,>=0.3.0->langchain_experimental) (2.6.1)\n",
      "Requirement already satisfied: jsonpatch<2.0,>=1.33 in d:\\code\\generative ai\\rag\\env\\lib\\site-packages (from langchain-core<0.4.0,>=0.3.15->langchain) (1.33)\n",
      "Requirement already satisfied: httpx<1,>=0.23.0 in d:\\code\\generative ai\\rag\\env\\lib\\site-packages (from langsmith<0.2.0,>=0.1.17->langchain) (0.27.2)\n",
      "Requirement already satisfied: orjson<4.0.0,>=3.9.14 in d:\\code\\generative ai\\rag\\env\\lib\\site-packages (from langsmith<0.2.0,>=0.1.17->langchain) (3.10.11)\n",
      "Requirement already satisfied: requests-toolbelt<2.0.0,>=1.0.0 in d:\\code\\generative ai\\rag\\env\\lib\\site-packages (from langsmith<0.2.0,>=0.1.17->langchain) (1.0.0)\n",
      "Requirement already satisfied: anyio<5,>=3.5.0 in d:\\code\\generative ai\\rag\\env\\lib\\site-packages (from openai<2.0.0,>=1.54.0->langchain-openai) (4.6.2.post1)\n",
      "Requirement already satisfied: distro<2,>=1.7.0 in d:\\code\\generative ai\\rag\\env\\lib\\site-packages (from openai<2.0.0,>=1.54.0->langchain-openai) (1.9.0)\n",
      "Requirement already satisfied: jiter<1,>=0.4.0 in d:\\code\\generative ai\\rag\\env\\lib\\site-packages (from openai<2.0.0,>=1.54.0->langchain-openai) (0.7.1)\n",
      "Requirement already satisfied: sniffio in d:\\code\\generative ai\\rag\\env\\lib\\site-packages (from openai<2.0.0,>=1.54.0->langchain-openai) (1.3.1)\n",
      "Requirement already satisfied: annotated-types>=0.6.0 in d:\\code\\generative ai\\rag\\env\\lib\\site-packages (from pydantic<3.0.0,>=2.7.4->langchain) (0.7.0)\n",
      "Requirement already satisfied: pydantic-core==2.23.4 in d:\\code\\generative ai\\rag\\env\\lib\\site-packages (from pydantic<3.0.0,>=2.7.4->langchain) (2.23.4)\n",
      "Requirement already satisfied: grpcio>=1.41.0 in d:\\code\\generative ai\\rag\\env\\lib\\site-packages (from qdrant-client<2.0.0,>=1.10.1->langchain-qdrant) (1.67.1)\n",
      "Requirement already satisfied: grpcio-tools>=1.41.0 in d:\\code\\generative ai\\rag\\env\\lib\\site-packages (from qdrant-client<2.0.0,>=1.10.1->langchain-qdrant) (1.67.1)\n",
      "Requirement already satisfied: portalocker<3.0.0,>=2.7.0 in d:\\code\\generative ai\\rag\\env\\lib\\site-packages (from qdrant-client<2.0.0,>=1.10.1->langchain-qdrant) (2.10.1)\n",
      "Requirement already satisfied: urllib3<3,>=1.26.14 in d:\\code\\generative ai\\rag\\env\\lib\\site-packages (from qdrant-client<2.0.0,>=1.10.1->langchain-qdrant) (2.2.3)\n",
      "Requirement already satisfied: charset-normalizer<4,>=2 in d:\\code\\generative ai\\rag\\env\\lib\\site-packages (from requests<3,>=2->langchain) (3.4.0)\n",
      "Requirement already satisfied: idna<4,>=2.5 in d:\\code\\generative ai\\rag\\env\\lib\\site-packages (from requests<3,>=2->langchain) (3.10)\n",
      "Requirement already satisfied: certifi>=2017.4.17 in d:\\code\\generative ai\\rag\\env\\lib\\site-packages (from requests<3,>=2->langchain) (2024.8.30)\n",
      "Requirement already satisfied: greenlet!=0.4.17 in d:\\code\\generative ai\\rag\\env\\lib\\site-packages (from SQLAlchemy<3,>=1.4->langchain) (3.1.1)\n",
      "Requirement already satisfied: regex>=2022.1.18 in d:\\code\\generative ai\\rag\\env\\lib\\site-packages (from tiktoken<1,>=0.7->langchain-openai) (2024.11.6)\n",
      "Requirement already satisfied: networkx in d:\\code\\generative ai\\rag\\env\\lib\\site-packages (from torch>=1.11.0->sentence-transformers) (3.4.2)\n",
      "Requirement already satisfied: jinja2 in d:\\code\\generative ai\\rag\\env\\lib\\site-packages (from torch>=1.11.0->sentence-transformers) (3.1.4)\n",
      "Requirement already satisfied: setuptools in d:\\code\\generative ai\\rag\\env\\lib\\site-packages (from torch>=1.11.0->sentence-transformers) (75.5.0)\n",
      "Requirement already satisfied: sympy==1.13.1 in d:\\code\\generative ai\\rag\\env\\lib\\site-packages (from torch>=1.11.0->sentence-transformers) (1.13.1)\n",
      "Requirement already satisfied: mpmath<1.4,>=1.1.0 in d:\\code\\generative ai\\rag\\env\\lib\\site-packages (from sympy==1.13.1->torch>=1.11.0->sentence-transformers) (1.3.0)\n",
      "Requirement already satisfied: colorama in d:\\code\\generative ai\\rag\\env\\lib\\site-packages (from tqdm->sentence-transformers) (0.4.6)\n",
      "Requirement already satisfied: safetensors>=0.4.1 in d:\\code\\generative ai\\rag\\env\\lib\\site-packages (from transformers<5.0.0,>=4.41.0->sentence-transformers) (0.4.5)\n",
      "Requirement already satisfied: tokenizers<0.21,>=0.20 in d:\\code\\generative ai\\rag\\env\\lib\\site-packages (from transformers<5.0.0,>=4.41.0->sentence-transformers) (0.20.3)\n",
      "Requirement already satisfied: joblib>=1.2.0 in d:\\code\\generative ai\\rag\\env\\lib\\site-packages (from scikit-learn->sentence-transformers) (1.4.2)\n",
      "Requirement already satisfied: threadpoolctl>=3.1.0 in d:\\code\\generative ai\\rag\\env\\lib\\site-packages (from scikit-learn->sentence-transformers) (3.5.0)\n",
      "Requirement already satisfied: marshmallow<4.0.0,>=3.18.0 in d:\\code\\generative ai\\rag\\env\\lib\\site-packages (from dataclasses-json<0.7,>=0.5.7->langchain-community<0.4.0,>=0.3.0->langchain_experimental) (3.23.1)\n",
      "Requirement already satisfied: typing-inspect<1,>=0.4.0 in d:\\code\\generative ai\\rag\\env\\lib\\site-packages (from dataclasses-json<0.7,>=0.5.7->langchain-community<0.4.0,>=0.3.0->langchain_experimental) (0.9.0)\n",
      "Requirement already satisfied: protobuf<6.0dev,>=5.26.1 in d:\\code\\generative ai\\rag\\env\\lib\\site-packages (from grpcio-tools>=1.41.0->qdrant-client<2.0.0,>=1.10.1->langchain-qdrant) (5.28.3)\n",
      "Requirement already satisfied: httpcore==1.* in d:\\code\\generative ai\\rag\\env\\lib\\site-packages (from httpx<1,>=0.23.0->langsmith<0.2.0,>=0.1.17->langchain) (1.0.6)\n",
      "Requirement already satisfied: h11<0.15,>=0.13 in d:\\code\\generative ai\\rag\\env\\lib\\site-packages (from httpcore==1.*->httpx<1,>=0.23.0->langsmith<0.2.0,>=0.1.17->langchain) (0.14.0)\n",
      "Requirement already satisfied: h2<5,>=3 in d:\\code\\generative ai\\rag\\env\\lib\\site-packages (from httpx[http2]>=0.20.0->qdrant-client<2.0.0,>=1.10.1->langchain-qdrant) (4.1.0)\n",
      "Requirement already satisfied: jsonpointer>=1.9 in d:\\code\\generative ai\\rag\\env\\lib\\site-packages (from jsonpatch<2.0,>=1.33->langchain-core<0.4.0,>=0.3.15->langchain) (3.0.0)\n",
      "Requirement already satisfied: pywin32>=226 in d:\\code\\generative ai\\rag\\env\\lib\\site-packages (from portalocker<3.0.0,>=2.7.0->qdrant-client<2.0.0,>=1.10.1->langchain-qdrant) (308)\n",
      "Requirement already satisfied: python-dotenv>=0.21.0 in d:\\code\\generative ai\\rag\\env\\lib\\site-packages (from pydantic-settings<3.0.0,>=2.4.0->langchain-community<0.4.0,>=0.3.0->langchain_experimental) (1.0.1)\n",
      "Requirement already satisfied: MarkupSafe>=2.0 in d:\\code\\generative ai\\rag\\env\\lib\\site-packages (from jinja2->torch>=1.11.0->sentence-transformers) (3.0.2)\n",
      "Requirement already satisfied: hyperframe<7,>=6.0 in d:\\code\\generative ai\\rag\\env\\lib\\site-packages (from h2<5,>=3->httpx[http2]>=0.20.0->qdrant-client<2.0.0,>=1.10.1->langchain-qdrant) (6.0.1)\n",
      "Requirement already satisfied: hpack<5,>=4.0 in d:\\code\\generative ai\\rag\\env\\lib\\site-packages (from h2<5,>=3->httpx[http2]>=0.20.0->qdrant-client<2.0.0,>=1.10.1->langchain-qdrant) (4.0.0)\n",
      "Requirement already satisfied: mypy-extensions>=0.3.0 in d:\\code\\generative ai\\rag\\env\\lib\\site-packages (from typing-inspect<1,>=0.4.0->dataclasses-json<0.7,>=0.5.7->langchain-community<0.4.0,>=0.3.0->langchain_experimental) (1.0.0)\n"
     ]
    },
    {
     "name": "stderr",
     "output_type": "stream",
     "text": [
      "\n",
      "[notice] A new release of pip is available: 24.0 -> 24.3.1\n",
      "[notice] To update, run: python.exe -m pip install --upgrade pip\n"
     ]
    }
   ],
   "source": [
    "! pip install langchain langchain_experimental langchain-openai langchain-qdrant pypdf sentence-transformers"
   ]
  },
  {
   "cell_type": "code",
   "execution_count": 42,
   "metadata": {},
   "outputs": [],
   "source": [
    "from langchain_openai import OpenAIEmbeddings\n",
    "\n",
    "embedding_models = OpenAIEmbeddings(\n",
    "    openai_api_base = \"http://localhost:1234/v1\",\n",
    "    api_key=\"type-anything-here\",\n",
    "    check_embedding_ctx_length=False\n",
    ")"
   ]
  },
  {
   "cell_type": "code",
   "execution_count": 43,
   "metadata": {},
   "outputs": [
    {
     "name": "stdout",
     "output_type": "stream",
     "text": [
      "768 [-0.027142411097884178, 0.06298010796308517, -0.13541874289512634, -0.07841941714286804, 0.009512169286608696, -0.026087282225489616, 0.09167490899562836, 0.006524229887872934, 0.003317721653729677, 0.007525214459747076, -0.038597945123910904, 0.013800815679132938, 0.0630827248096466, 0.07078425586223602, -0.03753889352083206, 0.037601538002491, 0.05013149604201317, -0.09621778130531311, -0.0027343661058694124, 0.029445834457874298, -0.03486834093928337, -0.03419571369886398, -0.03891743719577789, 0.00031672007753513753, 0.03477725759148598, 0.014772550202906132, 0.03315872699022293, -0.004717223346233368, -0.06687022745609283, 0.022569363936781883, 0.01789688505232334, 0.008520593866705894, 0.020647093653678894, -0.03244689851999283, -0.008830457925796509, 0.011679173447191715, 0.01600640080869198, 0.038365110754966736, 0.018955811858177185, -0.05251629650592804, -0.007539879996329546, -0.0074018859304487705, 0.02607267163693905, 0.00463831564411521, -0.03355007246136665, 0.014504658058285713, 0.06983163952827454, -0.08324546366930008, 0.05276422202587128, -0.016917457804083824, 0.06833574920892715, 0.027520054951310158, -0.030059047043323517, -0.04868598282337189, 0.0424673929810524, -0.017182068899273872, 0.016981216147542, 0.02512555569410324, 0.05610112473368645, -0.03380928561091423, 0.03839458152651787, 0.03922323137521744, -0.06420636177062988, 0.04912818223237991, 0.006434083450585604, 0.014684575609862804, -0.03815170377492905, 0.04807524383068085, 0.014753340743482113, -0.010934259742498398, 0.01794428937137127, 0.004140922334045172, 0.00245063123293221, -0.0009968726662918925, -0.007434420753270388, 0.028569845482707024, 0.016719799488782883, 0.007551820483058691, -0.002955770120024681, 0.02691919170320034, 0.003207214642316103, -0.009657503105700016, 0.08742192387580872, -0.05695439502596855, 0.08151642233133316, 0.022686965763568878, -0.06735856831073761, -0.045915637165308, -0.03377275913953781, 0.013776528649032116, -0.002273156773298979, 0.03848237171769142, -0.00428364472463727, 0.027553552761673927, -0.002331365831196308, -0.012886266224086285, -0.06623230129480362, 0.05464603751897812, 0.04492922127246857, -0.01043370645493269, -0.0009605103987269104, -0.043359458446502686, -0.039329029619693756, 6.760743076483777e-07, 0.027500158175826073, 0.05622074753046036, 0.003989970311522484, -0.038649506866931915, -0.033037248998880386, -0.0099483085796237, -0.03545449674129486, 0.028816962614655495, -0.012575957924127579, -0.024774042889475822, -0.03032226860523224, -0.014745280146598816, 0.05030495300889015, -0.02674628421664238, 0.021001439541578293, 0.053415775299072266, 0.0143550680950284, -0.00041462434455752373, 0.04200555384159088, 0.01702377013862133, 0.010938731022179127, 0.010166838765144348, -0.017361149191856384, -0.009103660471737385, -0.023281078785657883, -0.05249328538775444, 0.014158636331558228, -0.06675401329994202, 0.006962140090763569, -0.01371514331549406, 0.027339577674865723, 0.060736995190382004, -0.03031778335571289, -0.04463626444339752, -0.010546748526394367, 0.06213627755641937, 0.014820083044469357, 0.029012667015194893, 0.042244456708431244, -0.03329453989863396, -0.051124777644872665, -0.017937779426574707, 0.04572383686900139, 0.014267265796661377, 0.012874007225036621, 0.009804745204746723, -0.006902651395648718, 0.03765150532126427, -0.006682362407445908, -0.00839791726320982, 0.0326758548617363, 0.0032381084747612476, 0.028838353231549263, 0.000617753597907722, 0.05118973180651665, 0.03573055937886238, 0.05589760094881058, 0.01411255169659853, -0.008156943134963512, 0.06015433371067047, 0.05160112306475639, -0.061946745961904526, 0.0593523345887661, 0.017585014924407005, 0.0494115985929966, -0.009256966412067413, -0.006844382267445326, -0.011990013532340527, -0.03936440870165825, -0.026497481390833855, -0.019762150943279266, 0.009632500819861889, 0.07856385409832001, -0.039664071053266525, 0.039306677877902985, 0.027906067669391632, 0.034726884216070175, -0.013020829297602177, -0.01912437379360199, -0.014943595975637436, -0.04847606644034386, -0.024334540590643883, -0.03133362904191017, -0.009632338769733906, -0.07227025926113129, -0.006477111019194126, -0.010775956325232983, 0.0066500455141067505, -0.09230013191699982, -0.023448096588253975, -0.029464561492204666, 0.040570612996816635, 0.07896099239587784, -0.03825622797012329, 0.014735343866050243, 0.0286576971411705, -0.003152663353830576, 0.029735276475548744, -0.02766849286854267, 0.055258218199014664, -0.03877852484583855, 0.0578538253903389, -0.00894206017255783, 0.017025897279381752, -0.05446743965148926, 0.024275043979287148, 0.04380124807357788, 0.010325675830245018, 0.009576660580933094, 0.020449940115213394, 0.04900187626481056, 0.016124775633215904, 0.012358412146568298, 0.0012307990109547973, -0.02259354293346405, -0.018000170588493347, 0.0166096780449152, -0.031227337196469307, 0.024310842156410217, -0.05190897360444069, -0.01049074437469244, 0.0065269190818071365, -0.04647413641214371, 0.046529121696949005, -0.020878596231341362, -0.007666979916393757, -0.02119685336947441, -0.03136961907148361, 0.0687674954533577, -0.013778811320662498, 0.024170532822608948, 0.004248795099556446, -0.03722978010773659, 0.03188871592283249, -0.062063589692115784, -0.05357171967625618, -0.0061548189260065556, 0.015368853695690632, 0.04215517267584801, -0.021673429757356644, -0.036699261516332626, 0.017229050397872925, 0.03776552528142929, -0.06285639852285385, -0.030328664928674698, 0.025624074041843414, -0.02098979987204075, -0.0031709042377769947, 0.015221016481518745, 0.04692961275577545, 0.024735694751143456, -0.05824458226561546, 8.032455662032589e-05, -0.05220832675695419, 0.02306251786649227, 0.01902312971651554, 0.016440236940979958, 0.013599731959402561, -0.025168316438794136, -0.02296271361410618, -0.10106852650642395, -0.019690413028001785, -0.012597828172147274, -0.02199292741715908, 0.051193151623010635, -0.04146415740251541, -0.03966210409998894, -0.04103994742035866, -0.00265060318633914, 0.023802313953638077, 0.0207886453717947, 0.018262064084410667, 0.02668328955769539, 0.051993679255247116, -0.018095463514328003, 0.032994698733091354, -0.015802951529622078, -0.014551451429724693, -0.0898909717798233, 0.03072204813361168, 0.02301687002182007, 0.002794340020045638, 0.04539656639099121, -0.008862791582942009, 0.037238430231809616, 0.03304876759648323, -0.005734282545745373, 0.028281759470701218, -0.02250267006456852, 0.04373760521411896, 0.004620703868567944, 0.03409511595964432, 0.029429353773593903, -0.00562462629750371, 0.02391759119927883, 0.03849354758858681, -0.002494907472282648, 0.03972187265753746, 0.09785770624876022, 0.041894298046827316, -0.0398612879216671, -0.003760674735531211, 0.07741861045360565, -0.03140820935368538, -0.002368196612223983, -0.03309479355812073, -0.10766458511352539, -0.007364471442997456, -0.05931386351585388, 0.004028748255223036, -0.020319025963544846, 0.044868163764476776, 0.025731416419148445, 0.017434604465961456, 0.02018914557993412, -0.04006483033299446, -0.014266218058764935, -0.050493817776441574, -0.0003751633339561522, -0.013884876854717731, 0.01685604639351368, 0.026515886187553406, 0.006124869454652071, -0.009279993362724781, 0.022101420909166336, 1.5589193935738876e-05, -0.02183179184794426, 0.019725169986486435, 0.018721651285886765, 0.028894277289509773, -0.03197505697607994, -0.006438437849283218, 0.01823347620666027, -0.023885264992713928, -0.02469230256974697, -0.026468956843018532, 0.06773795932531357, -0.016041509807109833, 0.05374782159924507, -0.07102098315954208, 0.017183125019073486, -0.07919979840517044, -0.02702028863132, -4.970861118636094e-05, -0.0021908339112997055, 0.016676513478159904, -0.0259559266269207, 0.02054523676633835, 0.020766708999872208, -0.03756570816040039, 0.01398620754480362, -0.0005372844752855599, 0.043717846274375916, 0.02806181088089943, -0.025195708498358727, 0.02189723215997219, 0.026377582922577858, -0.050770353525877, 0.0007569947047159076, -0.014445346780121326, -0.008281652815639973, -0.006377760320901871, -0.06244323402643204, 0.06724648177623749, 0.03673161566257477, 0.022366216406226158, 0.04172470420598984, -0.008219613693654537, -0.032948777079582214, 0.02745857648551464, 0.011946664191782475, 0.02006423845887184, -0.043399035930633545, -0.01102623250335455, 0.03671649098396301, 0.0011311768321320415, -0.03127431496977806, 0.03847363963723183, 0.036382801830768585, 0.00995214469730854, 0.007426791824400425, 0.08008363842964172, 0.04849589243531227, 0.05025893449783325, -0.009156128391623497, -0.024780727922916412, 0.012015415355563164, -0.004295710474252701, -0.042412977665662766, 0.0016823128098621964, 0.005468626506626606, 0.015038899146020412, 0.053985513746738434, -0.012079117819666862, 0.00587283493950963, 0.02521452307701111, -0.009068746119737625, -0.024934325367212296, -0.025450369343161583, -0.01814083382487297, -0.005824303720146418, 0.015330491587519646, 0.01338394358754158, -0.0033431691117584705, 0.03353973850607872, 0.0016826483188197017, 0.013655857183039188, 0.03653490170836449, 0.012081862427294254, -0.031103363260626793, -0.03675233572721481, 0.02113211527466774, 0.022466033697128296, 0.0167700108140707, -0.012056767009198666, -0.0025168387219309807, -0.008078648708760738, 0.07706810534000397, -0.009771675802767277, -0.0002182395983254537, 0.03314831852912903, 0.008289548568427563, -0.007712170481681824, 0.03182457387447357, 0.0042709666304290295, -0.07210723310709, -0.026211418211460114, 0.03889801725745201, 0.038141872733831406, -0.024955585598945618, -0.029642624780535698, 0.003065698081627488, 0.024652276188135147, -0.003959504887461662, -0.0020933873020112514, 0.011043934151530266, -0.0009632263099774718, -0.027639713138341904, -0.017366748303174973, -0.014772840775549412, 0.0418146587908268, 0.0931820422410965, 0.034161269664764404, -0.011848594062030315, -0.03004525601863861, 0.049504298716783524, 0.04734168201684952, 0.010284502059221268, 0.0225233044475317, 0.01987430453300476, 0.04658786952495575, -0.018624721094965935, 0.0314699187874794, 0.04100998863577843, -0.033882029354572296, 0.03504620119929314, 0.04696578159928322, 0.04904061555862427, -0.02677016891539097, 0.0069379000924527645, 0.04147466644644737, -0.05336396023631096, -0.010191250592470169, -0.03783344477415085, 0.04256639629602432, 0.05519342049956322, -0.027753064408898354, -0.013640062883496284, 0.013569808565080166, -0.029369186609983444, 0.041170377284288406, 0.0671490728855133, -0.015012070536613464, -0.028337838128209114, 0.021324366331100464, 0.0004929475835524499, -0.023007061332464218, -0.048717837780714035, -0.03421745076775551, -0.018867382779717445, 0.03332749009132385, -0.010809184983372688, 0.0019318354316055775, 0.023701166734099388, 0.005006833467632532, 0.10805245488882065, -0.01907135732471943, -0.026759037747979164, -0.011437276378273964, 0.0021938777063041925, -0.02794857881963253, -0.057796720415353775, 0.006384628359228373, 0.0064992401748895645, 0.021083226427435875, -0.03531450778245926, -0.006780738476663828, 0.07355956733226776, -0.03799809515476227, 0.023966925218701363, 0.03134215995669365, -0.0361771322786808, -0.015498829074203968, -0.05032206326723099, -0.06578221917152405, 0.024273285642266273, 0.007273606024682522, 0.02635299600660801, -0.026013506576418877, -0.027400018647313118, 0.04385431483387947, -0.023396572098135948, -0.004646056331694126, 0.04431035369634628, -0.05241783335804939, -0.008508754894137383, 0.017161749303340912, -0.006521256174892187, 0.0013589875306934118, -0.021878395229578018, -0.02797127142548561, 0.020063793286681175, 0.05222127586603165, -0.0463164784014225, 0.009529783390462399, 0.009977785870432854, -1.5698984498158097e-05, 0.05584222823381424, -0.03358123078942299, -0.003508862340822816, 0.0432625450193882, 0.014542724005877972, -0.04320690035820007, 0.026254085823893547, 0.05073428899049759, -0.003870283020660281, -0.05070137977600098, -0.020063014701008797, -0.013688229024410248, -0.02443079464137554, -0.037633854895830154, 0.007288970053195953, 0.007687628734856844, 0.020202049985527992, 0.04249482974410057, -0.027848336845636368, 0.06326664239168167, -0.07133634388446808, 0.020389439538121223, -0.019430195912718773, 0.006006189621984959, 0.001131898839958012, -0.07782591879367828, -0.012462493032217026, 0.03105960786342621, -0.033135656267404556, 0.017144203186035156, -0.01812339946627617, 0.01637822762131691, 0.035117100924253464, 0.03866337239742279, 0.02391771413385868, -0.015280687250196934, 0.022683044895529747, -0.007229160983115435, 0.004194940440356731, 0.021853100508451462, -0.06633416563272476, 0.04093875735998154, 0.06233062595129013, 0.011160854250192642, -0.002535463310778141, 0.0359579399228096, 0.03522297739982605, -0.0692216083407402, -0.05048997700214386, -0.021451959386467934, -0.03700226545333862, 0.0006310578319244087, 0.0498499795794487, -0.032166898250579834, 0.03604481369256973, -0.026555374264717102, -0.06026197969913483, -0.03373575210571289, -0.04351592808961868, -0.023657601326704025, 0.005191140808165073, 0.015365643426775932, -0.021668216213583946, 0.030755599960684776, -0.01238251756876707, 0.00249372236430645, -0.06527058780193329, -0.026091840118169785, -0.03389401361346245, 0.015849070623517036, 0.011551877483725548, 0.04014976695179939, -0.03909120336174965, 0.011630800552666187, 0.05085345730185509, 0.04283945634961128, -0.02638610266149044, -0.021038459613919258, -0.01935059018433094, -0.00802647229284048, -0.027448143810033798, -0.08708899468183517, -0.022810073569417, 0.045397818088531494, -0.05782958120107651, 0.058107227087020874, -0.01144887413829565, 0.027876758947968483, -0.026637336239218712, -0.049187883734703064, -0.016911780461668968, 0.02987287938594818, -0.02010299824178219, -0.0012315943604335189, 0.019730141386389732, -0.09358827769756317, 0.0009407863253727555, 0.03052503429353237, 0.0222337506711483, -0.029997030273079872, -0.028281833976507187, -0.05324054881930351, -0.015906590968370438, -0.0332542322576046, 0.021554997190833092, 0.02781696431338787, 0.03699479252099991, -0.0072410996071994305, 0.07367035746574402, -0.011839932762086391, -0.002661189530044794, -0.04222962260246277, 0.017207812517881393, 0.027326339855790138, -0.0033063460141420364, 0.0026815871242433786, 0.08309580385684967, 0.04549911245703697, 0.017132794484496117, 0.03787164017558098, 0.06017942354083061, 0.02800411731004715, -0.08440425992012024, 0.03048725053668022, 0.0037532758433371782, -0.000998123548924923, -0.00974004901945591, -0.01837264746427536, -0.01900380849838257, -0.013083645142614841, -0.05293750390410423, -0.09493979066610336, -0.0523371659219265, 0.0459684282541275, -0.019192242994904518, -0.015630146488547325, 0.023175984621047974, -0.036576591432094574, -0.0734940618276596, -0.024085750803351402, -0.046451862901449203, -0.005474924575537443, -0.0379665270447731, -0.037225931882858276, 0.021512359380722046, 0.03489582613110542, 0.02646210789680481, -0.024481505155563354, -0.05685895308852196, -0.026892313733696938, 0.02989446185529232, 0.032449960708618164, 0.031054576858878136, -0.026166461408138275, -0.11258448660373688, -0.04819413274526596, -0.05004721134901047, -0.08129623532295227, -0.03574494644999504, -0.03599972277879715, -0.029666900634765625, -0.01211941335350275, -0.03379906713962555, -0.011575396172702312, 0.0280305203050375, 0.038673240691423416, -0.02614009752869606, 0.022884469479322433, 0.049771811813116074, -0.010253907181322575, 0.00043480779277160764, 0.023791033774614334, -0.010644388385117054, -0.054886236786842346, 0.007680326700210571, 0.040604740381240845, -0.012229141779243946, 0.007059536874294281, -0.04022461548447609, -0.020207449793815613, 0.0004279307322576642, -0.0057545495219528675, 0.07031997293233871, -0.034920282661914825, 0.039948076009750366, -0.053632572293281555, -0.04485185071825981, -0.04903046786785126, 0.07126227021217346, 0.04845467209815979, 0.03410886973142624, -0.03289254382252693, 0.03298177942633629, -0.002944702049717307, -0.022106090560555458, 0.031502749770879745, -0.02745230682194233, -0.0086513701826334, -0.011616764590144157, -0.0035060227382928133, -0.012855832464993, -0.0568164587020874, 0.04013476520776749, -0.013092836365103722, -0.019838031381368637, -0.038507070392370224, -0.026689983904361725, -0.006701632868498564, -0.01798274740576744, -0.07659241557121277, -0.000596175785176456, -0.005910775158554316, -0.005156724248081446, -0.017365237697958946, -0.017837783321738243, -0.05497775971889496, 0.001964705530554056, 0.01782539300620556, -0.021718747913837433, 0.03450075536966324, -0.08062134683132172, -0.01240454986691475, -0.015500339679419994, 0.033673014491796494, -0.0032537260558456182, -0.011220376938581467, 0.052189573645591736, 0.09160462021827698, 0.0136428102850914, 0.02110562101006508, -0.028543587774038315, 0.025259068235754967, 0.017442665994167328, 0.011792117729783058, 0.034250617027282715, -0.026784474030137062, 0.014903003349900246]\n"
     ]
    }
   ],
   "source": [
    "query = \"This is my first embedding input\"\n",
    "vector = embedding_models.embed_query(query)\n",
    "print(len(vector), vector)"
   ]
  },
  {
   "cell_type": "code",
   "execution_count": 44,
   "metadata": {},
   "outputs": [
    {
     "data": {
      "text/plain": [
       "'1.3 Hướng dẫn cài đặt anaconda 31\\n1.3.4 Hướng dẫn sử dụng Jupyter notebook\\nHình 1.9: Bên trái: Mở jupyter notebook trên win10, bên phải: Mở trên win7\\nGiao diện mở ra, click vào new chọn Python3 để tạo 1 notebook mới\\nSau đấy thì dùng giống như google colab, nhưng điểm khác biệt là jupyter notebook sẽ chạy trên\\nmáy của bạn chứ không phải cloud như google colab.'"
      ]
     },
     "execution_count": 44,
     "metadata": {},
     "output_type": "execute_result"
    }
   ],
   "source": [
    "from pypdf import PdfReader\n",
    "file_path = \"./Sách Deep Learning cơ bản - v2.pdf\"\n",
    "reader = PdfReader(file_path)\n",
    "reader.pages[30].extract_text()"
   ]
  },
  {
   "cell_type": "code",
   "execution_count": 45,
   "metadata": {},
   "outputs": [
    {
     "name": "stdout",
     "output_type": "stream",
     "text": [
      "877\n",
      "page_content=''\n"
     ]
    }
   ],
   "source": [
    "from langchain_experimental.text_splitter import SemanticChunker\n",
    "text_spliter = SemanticChunker(embedding_models)\n",
    "\n",
    "docs = text_spliter.create_documents([page.extract_text() for page in reader.pages])\n",
    "# docs = text_spliter.create_documents()\n",
    "print(len(docs))\n",
    "print(docs[0]) \n"
   ]
  },
  {
   "cell_type": "code",
   "execution_count": 46,
   "metadata": {},
   "outputs": [],
   "source": [
    "from qdrant_client import models, QdrantClient\n",
    "from sentence_transformers import SentenceTransformer"
   ]
  },
  {
   "cell_type": "code",
   "execution_count": 47,
   "metadata": {},
   "outputs": [],
   "source": [
    "encoder = SentenceTransformer(\"all-MiniLM-L6-v2\")"
   ]
  },
  {
   "cell_type": "code",
   "execution_count": 48,
   "metadata": {},
   "outputs": [],
   "source": [
    "client = QdrantClient(\":memory:\")"
   ]
  },
  {
   "cell_type": "code",
   "execution_count": 49,
   "metadata": {},
   "outputs": [
    {
     "data": {
      "text/plain": [
       "True"
      ]
     },
     "execution_count": 49,
     "metadata": {},
     "output_type": "execute_result"
    }
   ],
   "source": [
    "client.create_collection(\n",
    "    collection_name=\"my_books\",\n",
    "    vectors_config=models.VectorParams(\n",
    "        size=encoder.get_sentence_embedding_dimension(),  # Vector size is defined by used model\n",
    "        distance=models.Distance.COSINE,\n",
    "    ),\n",
    ")"
   ]
  },
  {
   "cell_type": "code",
   "execution_count": 50,
   "metadata": {},
   "outputs": [
    {
     "data": {
      "text/plain": [
       "Document(metadata={}, page_content='')"
      ]
     },
     "execution_count": 50,
     "metadata": {},
     "output_type": "execute_result"
    }
   ],
   "source": [
    "docs[0]"
   ]
  },
  {
   "cell_type": "code",
   "execution_count": 51,
   "metadata": {},
   "outputs": [],
   "source": [
    "client.upload_points(\n",
    "    collection_name=\"my_books\",\n",
    "    points=[\n",
    "        models.PointStruct(\n",
    "            id=idx, vector=encoder.encode(doc.page_content).tolist(), payload=doc.to_json()\n",
    "        )\n",
    "        for idx, doc in enumerate(docs)\n",
    "    ],\n",
    ")"
   ]
  },
  {
   "cell_type": "code",
   "execution_count": 54,
   "metadata": {},
   "outputs": [
    {
     "name": "stdout",
     "output_type": "stream",
     "text": [
      "{'lc': 1, 'type': 'constructor', 'id': ['langchain', 'schema', 'document', 'Document'], 'kwargs': {'page_content': '. 31\\n2 Python cơ bản . .', 'type': 'Document'}} score: 0.8512605046234447\n",
      "{'lc': 1, 'type': 'constructor', 'id': ['langchain', 'schema', 'document', 'Document'], 'kwargs': {'page_content': '38 Chương 2. Python cơ bản\\nprint(c) # Prints \"[[ 7.', 'type': 'Document'}} score: 0.6732336235684331\n",
      "{'lc': 1, 'type': 'constructor', 'id': ['langchain', 'schema', 'document', 'Document'], 'kwargs': {'page_content': '. 40\\n2.6 Matplotlib 40\\nII Machine learning cơ bản\\n3 Linear regression . .', 'type': 'Document'}} score: 0.45987344652287504\n"
     ]
    }
   ],
   "source": [
    "hits = client.query_points(\n",
    "    collection_name=\"my_books\",\n",
    "    query=encoder.encode(\"Python cơ bản\").tolist(),\n",
    "    limit=3,\n",
    ").points\n",
    "\n",
    "for hit in hits:\n",
    "    print(hit.payload, \"score:\", hit.score)"
   ]
  }
 ],
 "metadata": {
  "kernelspec": {
   "display_name": "env",
   "language": "python",
   "name": "python3"
  },
  "language_info": {
   "codemirror_mode": {
    "name": "ipython",
    "version": 3
   },
   "file_extension": ".py",
   "mimetype": "text/x-python",
   "name": "python",
   "nbconvert_exporter": "python",
   "pygments_lexer": "ipython3",
   "version": "3.12.2"
  }
 },
 "nbformat": 4,
 "nbformat_minor": 2
}
