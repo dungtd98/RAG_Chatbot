{
 "cells": [
  {
   "cell_type": "markdown",
   "metadata": {},
   "source": [
    "# Install Package"
   ]
  },
  {
   "cell_type": "code",
   "execution_count": 1,
   "metadata": {},
   "outputs": [
    {
     "name": "stdout",
     "output_type": "stream",
     "text": [
      "Requirement already satisfied: langchain in c:\\users\\trươngđứcdũng\\desktop\\ai\\rag\\env\\lib\\site-packages (0.3.7)\n",
      "Requirement already satisfied: langchain_experimental in c:\\users\\trươngđứcdũng\\desktop\\ai\\rag\\env\\lib\\site-packages (0.3.3)\n",
      "Requirement already satisfied: langchain-openai in c:\\users\\trươngđứcdũng\\desktop\\ai\\rag\\env\\lib\\site-packages (0.2.8)\n",
      "Requirement already satisfied: langchain-qdrant in c:\\users\\trươngđứcdũng\\desktop\\ai\\rag\\env\\lib\\site-packages (0.2.0)\n",
      "Requirement already satisfied: pypdf in c:\\users\\trươngđứcdũng\\desktop\\ai\\rag\\env\\lib\\site-packages (5.1.0)\n",
      "Requirement already satisfied: sentence-transformers in c:\\users\\trươngđứcdũng\\desktop\\ai\\rag\\env\\lib\\site-packages (3.3.0)\n",
      "Requirement already satisfied: PyYAML>=5.3 in c:\\users\\trươngđứcdũng\\desktop\\ai\\rag\\env\\lib\\site-packages (from langchain) (6.0.2)\n",
      "Requirement already satisfied: SQLAlchemy<3,>=1.4 in c:\\users\\trươngđứcdũng\\desktop\\ai\\rag\\env\\lib\\site-packages (from langchain) (2.0.35)\n",
      "Requirement already satisfied: aiohttp<4.0.0,>=3.8.3 in c:\\users\\trươngđứcdũng\\desktop\\ai\\rag\\env\\lib\\site-packages (from langchain) (3.11.0)\n",
      "Requirement already satisfied: langchain-core<0.4.0,>=0.3.15 in c:\\users\\trươngđứcdũng\\desktop\\ai\\rag\\env\\lib\\site-packages (from langchain) (0.3.18)\n",
      "Requirement already satisfied: langchain-text-splitters<0.4.0,>=0.3.0 in c:\\users\\trươngđứcdũng\\desktop\\ai\\rag\\env\\lib\\site-packages (from langchain) (0.3.2)\n",
      "Requirement already satisfied: langsmith<0.2.0,>=0.1.17 in c:\\users\\trươngđứcdũng\\desktop\\ai\\rag\\env\\lib\\site-packages (from langchain) (0.1.143)\n",
      "Requirement already satisfied: numpy<2,>=1 in c:\\users\\trươngđứcdũng\\desktop\\ai\\rag\\env\\lib\\site-packages (from langchain) (1.26.4)\n",
      "Requirement already satisfied: pydantic<3.0.0,>=2.7.4 in c:\\users\\trươngđứcdũng\\desktop\\ai\\rag\\env\\lib\\site-packages (from langchain) (2.9.2)\n",
      "Requirement already satisfied: requests<3,>=2 in c:\\users\\trươngđứcdũng\\desktop\\ai\\rag\\env\\lib\\site-packages (from langchain) (2.32.3)\n",
      "Requirement already satisfied: tenacity!=8.4.0,<10,>=8.1.0 in c:\\users\\trươngđứcdũng\\desktop\\ai\\rag\\env\\lib\\site-packages (from langchain) (9.0.0)\n",
      "Requirement already satisfied: langchain-community<0.4.0,>=0.3.0 in c:\\users\\trươngđứcdũng\\desktop\\ai\\rag\\env\\lib\\site-packages (from langchain_experimental) (0.3.7)\n",
      "Requirement already satisfied: openai<2.0.0,>=1.54.0 in c:\\users\\trươngđứcdũng\\desktop\\ai\\rag\\env\\lib\\site-packages (from langchain-openai) (1.54.4)\n",
      "Requirement already satisfied: tiktoken<1,>=0.7 in c:\\users\\trươngđứcdũng\\desktop\\ai\\rag\\env\\lib\\site-packages (from langchain-openai) (0.8.0)\n",
      "Requirement already satisfied: qdrant-client<2.0.0,>=1.10.1 in c:\\users\\trươngđứcdũng\\desktop\\ai\\rag\\env\\lib\\site-packages (from langchain-qdrant) (1.12.1)\n",
      "Requirement already satisfied: transformers<5.0.0,>=4.41.0 in c:\\users\\trươngđứcdũng\\desktop\\ai\\rag\\env\\lib\\site-packages (from sentence-transformers) (4.46.2)\n",
      "Requirement already satisfied: tqdm in c:\\users\\trươngđứcdũng\\desktop\\ai\\rag\\env\\lib\\site-packages (from sentence-transformers) (4.67.0)\n",
      "Requirement already satisfied: torch>=1.11.0 in c:\\users\\trươngđứcdũng\\desktop\\ai\\rag\\env\\lib\\site-packages (from sentence-transformers) (2.5.1)\n",
      "Requirement already satisfied: scikit-learn in c:\\users\\trươngđứcdũng\\desktop\\ai\\rag\\env\\lib\\site-packages (from sentence-transformers) (1.5.2)\n",
      "Requirement already satisfied: scipy in c:\\users\\trươngđứcdũng\\desktop\\ai\\rag\\env\\lib\\site-packages (from sentence-transformers) (1.14.1)\n",
      "Requirement already satisfied: huggingface-hub>=0.20.0 in c:\\users\\trươngđứcdũng\\desktop\\ai\\rag\\env\\lib\\site-packages (from sentence-transformers) (0.26.2)\n",
      "Requirement already satisfied: Pillow in c:\\users\\trươngđứcdũng\\desktop\\ai\\rag\\env\\lib\\site-packages (from sentence-transformers) (11.0.0)\n",
      "Requirement already satisfied: aiohappyeyeballs>=2.3.0 in c:\\users\\trươngđứcdũng\\desktop\\ai\\rag\\env\\lib\\site-packages (from aiohttp<4.0.0,>=3.8.3->langchain) (2.4.3)\n",
      "Requirement already satisfied: aiosignal>=1.1.2 in c:\\users\\trươngđứcdũng\\desktop\\ai\\rag\\env\\lib\\site-packages (from aiohttp<4.0.0,>=3.8.3->langchain) (1.3.1)\n",
      "Requirement already satisfied: attrs>=17.3.0 in c:\\users\\trươngđứcdũng\\desktop\\ai\\rag\\env\\lib\\site-packages (from aiohttp<4.0.0,>=3.8.3->langchain) (24.2.0)\n",
      "Requirement already satisfied: frozenlist>=1.1.1 in c:\\users\\trươngđứcdũng\\desktop\\ai\\rag\\env\\lib\\site-packages (from aiohttp<4.0.0,>=3.8.3->langchain) (1.5.0)\n",
      "Requirement already satisfied: multidict<7.0,>=4.5 in c:\\users\\trươngđứcdũng\\desktop\\ai\\rag\\env\\lib\\site-packages (from aiohttp<4.0.0,>=3.8.3->langchain) (6.1.0)\n",
      "Requirement already satisfied: propcache>=0.2.0 in c:\\users\\trươngđứcdũng\\desktop\\ai\\rag\\env\\lib\\site-packages (from aiohttp<4.0.0,>=3.8.3->langchain) (0.2.0)\n",
      "Requirement already satisfied: yarl<2.0,>=1.17.0 in c:\\users\\trươngđứcdũng\\desktop\\ai\\rag\\env\\lib\\site-packages (from aiohttp<4.0.0,>=3.8.3->langchain) (1.17.1)\n",
      "Requirement already satisfied: filelock in c:\\users\\trươngđứcdũng\\desktop\\ai\\rag\\env\\lib\\site-packages (from huggingface-hub>=0.20.0->sentence-transformers) (3.16.1)\n",
      "Requirement already satisfied: fsspec>=2023.5.0 in c:\\users\\trươngđứcdũng\\desktop\\ai\\rag\\env\\lib\\site-packages (from huggingface-hub>=0.20.0->sentence-transformers) (2024.10.0)\n",
      "Requirement already satisfied: packaging>=20.9 in c:\\users\\trươngđứcdũng\\desktop\\ai\\rag\\env\\lib\\site-packages (from huggingface-hub>=0.20.0->sentence-transformers) (24.2)\n",
      "Requirement already satisfied: typing-extensions>=3.7.4.3 in c:\\users\\trươngđứcdũng\\desktop\\ai\\rag\\env\\lib\\site-packages (from huggingface-hub>=0.20.0->sentence-transformers) (4.12.2)\n",
      "Requirement already satisfied: dataclasses-json<0.7,>=0.5.7 in c:\\users\\trươngđứcdũng\\desktop\\ai\\rag\\env\\lib\\site-packages (from langchain-community<0.4.0,>=0.3.0->langchain_experimental) (0.6.7)\n",
      "Requirement already satisfied: httpx-sse<0.5.0,>=0.4.0 in c:\\users\\trươngđứcdũng\\desktop\\ai\\rag\\env\\lib\\site-packages (from langchain-community<0.4.0,>=0.3.0->langchain_experimental) (0.4.0)\n",
      "Requirement already satisfied: pydantic-settings<3.0.0,>=2.4.0 in c:\\users\\trươngđứcdũng\\desktop\\ai\\rag\\env\\lib\\site-packages (from langchain-community<0.4.0,>=0.3.0->langchain_experimental) (2.6.1)\n",
      "Requirement already satisfied: jsonpatch<2.0,>=1.33 in c:\\users\\trươngđứcdũng\\desktop\\ai\\rag\\env\\lib\\site-packages (from langchain-core<0.4.0,>=0.3.15->langchain) (1.33)\n",
      "Requirement already satisfied: httpx<1,>=0.23.0 in c:\\users\\trươngđứcdũng\\desktop\\ai\\rag\\env\\lib\\site-packages (from langsmith<0.2.0,>=0.1.17->langchain) (0.27.2)\n",
      "Requirement already satisfied: orjson<4.0.0,>=3.9.14 in c:\\users\\trươngđứcdũng\\desktop\\ai\\rag\\env\\lib\\site-packages (from langsmith<0.2.0,>=0.1.17->langchain) (3.10.11)\n",
      "Requirement already satisfied: requests-toolbelt<2.0.0,>=1.0.0 in c:\\users\\trươngđứcdũng\\desktop\\ai\\rag\\env\\lib\\site-packages (from langsmith<0.2.0,>=0.1.17->langchain) (1.0.0)\n",
      "Requirement already satisfied: anyio<5,>=3.5.0 in c:\\users\\trươngđứcdũng\\desktop\\ai\\rag\\env\\lib\\site-packages (from openai<2.0.0,>=1.54.0->langchain-openai) (4.6.2.post1)\n",
      "Requirement already satisfied: distro<2,>=1.7.0 in c:\\users\\trươngđứcdũng\\desktop\\ai\\rag\\env\\lib\\site-packages (from openai<2.0.0,>=1.54.0->langchain-openai) (1.9.0)\n",
      "Requirement already satisfied: jiter<1,>=0.4.0 in c:\\users\\trươngđứcdũng\\desktop\\ai\\rag\\env\\lib\\site-packages (from openai<2.0.0,>=1.54.0->langchain-openai) (0.7.1)\n",
      "Requirement already satisfied: sniffio in c:\\users\\trươngđứcdũng\\desktop\\ai\\rag\\env\\lib\\site-packages (from openai<2.0.0,>=1.54.0->langchain-openai) (1.3.1)\n",
      "Requirement already satisfied: annotated-types>=0.6.0 in c:\\users\\trươngđứcdũng\\desktop\\ai\\rag\\env\\lib\\site-packages (from pydantic<3.0.0,>=2.7.4->langchain) (0.7.0)\n",
      "Requirement already satisfied: pydantic-core==2.23.4 in c:\\users\\trươngđứcdũng\\desktop\\ai\\rag\\env\\lib\\site-packages (from pydantic<3.0.0,>=2.7.4->langchain) (2.23.4)\n",
      "Requirement already satisfied: grpcio>=1.41.0 in c:\\users\\trươngđứcdũng\\desktop\\ai\\rag\\env\\lib\\site-packages (from qdrant-client<2.0.0,>=1.10.1->langchain-qdrant) (1.67.1)\n",
      "Requirement already satisfied: grpcio-tools>=1.41.0 in c:\\users\\trươngđứcdũng\\desktop\\ai\\rag\\env\\lib\\site-packages (from qdrant-client<2.0.0,>=1.10.1->langchain-qdrant) (1.67.1)\n",
      "Requirement already satisfied: portalocker<3.0.0,>=2.7.0 in c:\\users\\trươngđứcdũng\\desktop\\ai\\rag\\env\\lib\\site-packages (from qdrant-client<2.0.0,>=1.10.1->langchain-qdrant) (2.10.1)\n",
      "Requirement already satisfied: urllib3<3,>=1.26.14 in c:\\users\\trươngđứcdũng\\desktop\\ai\\rag\\env\\lib\\site-packages (from qdrant-client<2.0.0,>=1.10.1->langchain-qdrant) (2.2.3)\n",
      "Requirement already satisfied: charset-normalizer<4,>=2 in c:\\users\\trươngđứcdũng\\desktop\\ai\\rag\\env\\lib\\site-packages (from requests<3,>=2->langchain) (3.4.0)\n",
      "Requirement already satisfied: idna<4,>=2.5 in c:\\users\\trươngđứcdũng\\desktop\\ai\\rag\\env\\lib\\site-packages (from requests<3,>=2->langchain) (3.10)\n",
      "Requirement already satisfied: certifi>=2017.4.17 in c:\\users\\trươngđứcdũng\\desktop\\ai\\rag\\env\\lib\\site-packages (from requests<3,>=2->langchain) (2024.8.30)\n",
      "Requirement already satisfied: greenlet!=0.4.17 in c:\\users\\trươngđứcdũng\\desktop\\ai\\rag\\env\\lib\\site-packages (from SQLAlchemy<3,>=1.4->langchain) (3.1.1)\n",
      "Requirement already satisfied: regex>=2022.1.18 in c:\\users\\trươngđứcdũng\\desktop\\ai\\rag\\env\\lib\\site-packages (from tiktoken<1,>=0.7->langchain-openai) (2024.11.6)\n",
      "Requirement already satisfied: networkx in c:\\users\\trươngđứcdũng\\desktop\\ai\\rag\\env\\lib\\site-packages (from torch>=1.11.0->sentence-transformers) (3.4.2)\n",
      "Requirement already satisfied: jinja2 in c:\\users\\trươngđứcdũng\\desktop\\ai\\rag\\env\\lib\\site-packages (from torch>=1.11.0->sentence-transformers) (3.1.4)\n",
      "Requirement already satisfied: sympy==1.13.1 in c:\\users\\trươngđứcdũng\\desktop\\ai\\rag\\env\\lib\\site-packages (from torch>=1.11.0->sentence-transformers) (1.13.1)\n",
      "Requirement already satisfied: mpmath<1.4,>=1.1.0 in c:\\users\\trươngđứcdũng\\desktop\\ai\\rag\\env\\lib\\site-packages (from sympy==1.13.1->torch>=1.11.0->sentence-transformers) (1.3.0)\n",
      "Requirement already satisfied: colorama in c:\\users\\trươngđứcdũng\\desktop\\ai\\rag\\env\\lib\\site-packages (from tqdm->sentence-transformers) (0.4.6)\n",
      "Requirement already satisfied: safetensors>=0.4.1 in c:\\users\\trươngđứcdũng\\desktop\\ai\\rag\\env\\lib\\site-packages (from transformers<5.0.0,>=4.41.0->sentence-transformers) (0.4.5)\n",
      "Requirement already satisfied: tokenizers<0.21,>=0.20 in c:\\users\\trươngđứcdũng\\desktop\\ai\\rag\\env\\lib\\site-packages (from transformers<5.0.0,>=4.41.0->sentence-transformers) (0.20.3)\n",
      "Requirement already satisfied: joblib>=1.2.0 in c:\\users\\trươngđứcdũng\\desktop\\ai\\rag\\env\\lib\\site-packages (from scikit-learn->sentence-transformers) (1.4.2)\n",
      "Requirement already satisfied: threadpoolctl>=3.1.0 in c:\\users\\trươngđứcdũng\\desktop\\ai\\rag\\env\\lib\\site-packages (from scikit-learn->sentence-transformers) (3.5.0)\n",
      "Requirement already satisfied: marshmallow<4.0.0,>=3.18.0 in c:\\users\\trươngđứcdũng\\desktop\\ai\\rag\\env\\lib\\site-packages (from dataclasses-json<0.7,>=0.5.7->langchain-community<0.4.0,>=0.3.0->langchain_experimental) (3.23.1)\n",
      "Requirement already satisfied: typing-inspect<1,>=0.4.0 in c:\\users\\trươngđứcdũng\\desktop\\ai\\rag\\env\\lib\\site-packages (from dataclasses-json<0.7,>=0.5.7->langchain-community<0.4.0,>=0.3.0->langchain_experimental) (0.9.0)\n",
      "Requirement already satisfied: protobuf<6.0dev,>=5.26.1 in c:\\users\\trươngđứcdũng\\desktop\\ai\\rag\\env\\lib\\site-packages (from grpcio-tools>=1.41.0->qdrant-client<2.0.0,>=1.10.1->langchain-qdrant) (5.28.3)\n",
      "Requirement already satisfied: setuptools in c:\\users\\trươngđứcdũng\\desktop\\ai\\rag\\env\\lib\\site-packages (from grpcio-tools>=1.41.0->qdrant-client<2.0.0,>=1.10.1->langchain-qdrant) (65.5.0)\n",
      "Requirement already satisfied: httpcore==1.* in c:\\users\\trươngđứcdũng\\desktop\\ai\\rag\\env\\lib\\site-packages (from httpx<1,>=0.23.0->langsmith<0.2.0,>=0.1.17->langchain) (1.0.6)\n",
      "Requirement already satisfied: h11<0.15,>=0.13 in c:\\users\\trươngđứcdũng\\desktop\\ai\\rag\\env\\lib\\site-packages (from httpcore==1.*->httpx<1,>=0.23.0->langsmith<0.2.0,>=0.1.17->langchain) (0.14.0)\n",
      "Requirement already satisfied: h2<5,>=3 in c:\\users\\trươngđứcdũng\\desktop\\ai\\rag\\env\\lib\\site-packages (from httpx[http2]>=0.20.0->qdrant-client<2.0.0,>=1.10.1->langchain-qdrant) (4.1.0)\n",
      "Requirement already satisfied: jsonpointer>=1.9 in c:\\users\\trươngđứcdũng\\desktop\\ai\\rag\\env\\lib\\site-packages (from jsonpatch<2.0,>=1.33->langchain-core<0.4.0,>=0.3.15->langchain) (3.0.0)\n",
      "Requirement already satisfied: pywin32>=226 in c:\\users\\trươngđứcdũng\\desktop\\ai\\rag\\env\\lib\\site-packages (from portalocker<3.0.0,>=2.7.0->qdrant-client<2.0.0,>=1.10.1->langchain-qdrant) (308)\n",
      "Requirement already satisfied: python-dotenv>=0.21.0 in c:\\users\\trươngđứcdũng\\desktop\\ai\\rag\\env\\lib\\site-packages (from pydantic-settings<3.0.0,>=2.4.0->langchain-community<0.4.0,>=0.3.0->langchain_experimental) (1.0.1)\n",
      "Requirement already satisfied: MarkupSafe>=2.0 in c:\\users\\trươngđứcdũng\\desktop\\ai\\rag\\env\\lib\\site-packages (from jinja2->torch>=1.11.0->sentence-transformers) (3.0.2)\n",
      "Requirement already satisfied: hyperframe<7,>=6.0 in c:\\users\\trươngđứcdũng\\desktop\\ai\\rag\\env\\lib\\site-packages (from h2<5,>=3->httpx[http2]>=0.20.0->qdrant-client<2.0.0,>=1.10.1->langchain-qdrant) (6.0.1)\n",
      "Requirement already satisfied: hpack<5,>=4.0 in c:\\users\\trươngđứcdũng\\desktop\\ai\\rag\\env\\lib\\site-packages (from h2<5,>=3->httpx[http2]>=0.20.0->qdrant-client<2.0.0,>=1.10.1->langchain-qdrant) (4.0.0)\n",
      "Requirement already satisfied: mypy-extensions>=0.3.0 in c:\\users\\trươngđứcdũng\\desktop\\ai\\rag\\env\\lib\\site-packages (from typing-inspect<1,>=0.4.0->dataclasses-json<0.7,>=0.5.7->langchain-community<0.4.0,>=0.3.0->langchain_experimental) (1.0.0)\n"
     ]
    },
    {
     "name": "stderr",
     "output_type": "stream",
     "text": [
      "\n",
      "[notice] A new release of pip is available: 24.0 -> 24.3.1\n",
      "[notice] To update, run: python.exe -m pip install --upgrade pip\n"
     ]
    }
   ],
   "source": [
    "! pip install langchain langchain_experimental langchain-openai langchain-qdrant pypdf sentence-transformers"
   ]
  },
  {
   "cell_type": "code",
   "execution_count": 2,
   "metadata": {},
   "outputs": [],
   "source": [
    "from langchain_openai import OpenAIEmbeddings\n",
    "\n",
    "embedding_models = OpenAIEmbeddings(\n",
    "    openai_api_base = \"http://localhost:1234/v1\",\n",
    "    api_key=\"type-anything-here\",\n",
    "    check_embedding_ctx_length=False\n",
    ")"
   ]
  },
  {
   "cell_type": "code",
   "execution_count": 3,
   "metadata": {},
   "outputs": [
    {
     "name": "stdout",
     "output_type": "stream",
     "text": [
      "768 [-0.028102800250053406, 0.0380057729780674, -0.13113786280155182, -0.09799801558256149, 0.008886237628757954, -0.043459586799144745, 0.07824144512414932, 0.01212562806904316, -0.025372019037604332, -0.007348777260631323, -0.05746935307979584, 0.016481773927807808, 0.09535887837409973, 0.06395108252763748, -0.03246573358774185, 0.05639755725860596, 0.04681899771094322, -0.06432924419641495, -0.009352711960673332, 0.016209512948989868, -0.044571805745363235, -0.015060754492878914, -0.03755974397063255, 0.02524692751467228, 0.07082211971282959, 0.029586806893348694, 0.038531940430402756, -0.0025515006855130196, -0.068780317902565, 0.033196624368429184, 0.008204669691622257, 0.005984176881611347, 0.0043681007809937, -0.03510832414031029, -0.022205477580428123, -0.011554487980902195, 0.009527572430670261, 0.02686568722128868, 0.00498193921521306, -0.0027629011310636997, 0.004842245951294899, -0.02176894247531891, 0.0003518109442666173, 0.005985435098409653, -0.0460234172642231, -0.0162710789591074, 0.056284625083208084, -0.053848449140787125, 0.05750637874007225, -0.009637429378926754, 0.04036521166563034, 0.03110925480723381, -0.015292076393961906, -0.06130284070968628, 0.05962568521499634, -0.005248377565294504, -0.0012160410406067967, 0.010415218770503998, 0.050122518092393875, -0.03536682575941086, 0.03161391243338585, 0.04106416180729866, -0.08936761319637299, 0.05471835657954216, 0.01086160447448492, 0.019282611086964607, -0.04133250564336777, 0.049561940133571625, 0.00505649670958519, 0.007153929676860571, 0.015808533877134323, -0.01990567520260811, 0.027371026575565338, 0.006253878585994244, 0.008125469088554382, 0.0071310969069600105, 0.016124866902828217, 0.003486465895548463, 0.013919612392783165, 0.03201805055141449, 0.02768014930188656, -0.014848301187157631, 0.07898367196321487, -0.06570553779602051, 0.08122219890356064, 0.019877854734659195, -0.03695050999522209, -0.027814636006951332, -0.044223684817552567, 0.023428192362189293, 0.015667837113142014, 0.026994073763489723, -0.03442151099443436, 0.012928660959005356, 0.004426630213856697, -0.012448782101273537, -0.036539629101753235, 0.04799609258770943, 0.03648266941308975, -0.028501316905021667, -0.02057688869535923, -0.03772231191396713, -0.07480368763208389, -0.018000677227973938, 0.016282593831419945, 0.02157612517476082, 0.0038014771416783333, -0.033213041722774506, -0.021450165659189224, 0.002873020712286234, -0.03365395963191986, 0.022918423637747765, -0.021124189719557762, -0.0512029193341732, -0.028349921107292175, -0.054032932966947556, 0.017385486513376236, -0.01913147233426571, 0.022594066336750984, 0.04685506969690323, -0.01910935342311859, -0.01654292643070221, 0.026565896347165108, 0.01996207982301712, 0.007578762713819742, 0.008427578955888748, -0.03942907601594925, -0.025612713769078255, -0.020846549421548843, -0.060993894934654236, -0.010356687009334564, -0.07730653136968613, 0.009351884014904499, 0.0030656286980956793, 0.03868258744478226, 0.023731721565127373, -0.05179698020219803, -0.03052701987326145, -0.021167559549212456, 0.06182752549648285, 0.0040952893905341625, 0.02809954807162285, 0.037900689989328384, -0.02880076877772808, -0.011489029042422771, -0.02919543720781803, 0.04706091061234474, -0.0071087367832660675, 0.01667642407119274, -0.00116009043995291, -0.012341232039034367, 0.04338693246245384, -0.018269022926688194, -0.019971469417214394, 0.0256576519459486, 0.01633056066930294, 0.03468417748808861, 0.013653088361024857, 0.033735305070877075, 0.06663250923156738, 0.04255286976695061, 0.00012964452616870403, -0.019697939977049828, 0.0345236100256443, 0.039548713713884354, -0.05377592518925667, 0.030844543129205704, 0.025882596150040627, 0.03144805505871773, -0.014443774707615376, -0.016186555847525597, -0.03170059993863106, -0.04751625657081604, -0.033934418112039566, -0.03375214338302612, 0.0023107347078621387, 0.0591314360499382, -0.0494280569255352, 0.06860612332820892, 0.01789257675409317, 0.05403978005051613, -0.005843850318342447, -0.0021666986867785454, -0.028890885412693024, -0.02953759767115116, -0.01913313753902912, -0.013509348034858704, 0.0031434944830834866, -0.05675260350108147, -0.02286720462143421, -0.03520042821764946, 0.004998159594833851, -0.07319691777229309, -0.02788543701171875, -0.05205906182527542, 0.02542823925614357, 0.09271473437547684, -0.05699348822236061, -0.006720051169395447, 0.03248582407832146, -0.006760115269571543, 0.030088236555457115, -0.00743349501863122, 0.05540910363197327, -0.04424527660012245, 0.048845842480659485, 0.0039787800051271915, 0.0017657120479270816, -0.06337103247642517, 0.03866133466362953, 0.05927268788218498, 0.019855517894029617, 0.00640534795820713, 0.020950235426425934, 0.05500563979148865, 0.007156488951295614, 0.02443072572350502, -0.010449114255607128, -0.0004825689538847655, -0.02648261748254299, 0.030358649790287018, -0.0050351060926914215, 0.0317143015563488, -0.043369509279727936, -0.0007624722202308476, 0.010639169253408909, -0.041508760303258896, 0.038521669805049896, -0.031850431114435196, 0.012302981689572334, -0.02005906030535698, -0.02813144586980343, 0.05445132777094841, -0.0027177510783076286, 0.01276371069252491, -0.015439276583492756, -0.01840273290872574, 0.02214665710926056, -0.06289079040288925, -0.04418729990720749, -0.0012974960263818502, 0.04380626231431961, -0.0030603057239204645, 0.000532223260961473, -0.03941405192017555, 0.005151455756276846, 0.03991805762052536, -0.0753362625837326, -0.037238504737615585, 0.021120764315128326, -0.03419153392314911, -0.018759718164801598, -0.003247128566727042, 0.04096892103552818, 0.0355694517493248, -0.08624349534511566, 0.004504190292209387, -0.06358592957258224, 0.013366620987653732, 0.0027025779709219933, 0.023489048704504967, 0.005400598514825106, -0.042749423533678055, -0.018725458532571793, -0.1205795630812645, -0.03311372175812721, 0.005406589712947607, -0.026123639196157455, 0.049088094383478165, -0.04833601042628288, -0.03127138316631317, -0.029327526688575745, -0.0029467546846717596, 0.019808311015367508, 0.03309515863656998, -0.007182888686656952, -0.0013319100253283978, 0.029096903279423714, -0.050034280866384506, 0.027480216696858406, -0.055983398109674454, 0.0029619198758155107, -0.060560185462236404, 0.012092412449419498, -0.013246383517980576, 0.010892401449382305, 0.0615667998790741, -0.005511056631803513, 0.017846044152975082, 0.023781903088092804, 0.033830542117357254, 0.05118153616786003, -0.02770814672112465, 0.03643515706062317, 0.009607578627765179, 0.026221666485071182, 0.032942064106464386, -0.02556714229285717, 0.03999275341629982, 0.03418721258640289, -0.008672647178173065, 0.03465418890118599, 0.08056450635194778, -0.0010695605305954814, -0.022549530491232872, -0.01737828552722931, 0.06737710535526276, -0.026954349130392075, 0.023835288360714912, 0.00742472754791379, -0.08021540194749832, -0.010279291309416294, -0.057961758226156235, -0.018676262348890305, -0.022727780044078827, 0.06215761974453926, 5.375771797844209e-05, -0.006159030366688967, 0.017505373805761337, -0.04989087954163551, 0.001573870424181223, -0.05439005047082901, 0.012273046188056469, -0.006016239523887634, 0.006191573571413755, 0.04386653006076813, 0.003902105614542961, -0.011114520020782948, 0.01729852333664894, -0.015036050230264664, -0.016209006309509277, 0.016158808022737503, 0.017499418929219246, 0.03636173903942108, -0.008922618813812733, 0.020577548071742058, -0.014888905920088291, -0.011766074225306511, -0.002941366285085678, -0.016285786405205727, 0.060478586703538895, -0.014787575230002403, 0.037091419100761414, -0.07463792711496353, 0.026187805458903313, -0.03533538430929184, 0.0005475310608744621, -0.006080832798033953, -0.027128277346491814, 0.047236889600753784, -0.01560365129262209, 0.010803145356476307, 0.00860685482621193, -0.037267543375492096, 0.020062753930687904, 0.026499822735786438, 0.04842023178935051, 0.03890346735715866, -0.025751903653144836, 0.031897250562906265, 0.015274600125849247, -0.052603546530008316, -0.019333921372890472, -0.03829411044716835, 0.003978650085628033, -0.012303050607442856, -0.04080064594745636, 0.03621487691998482, 0.043400052934885025, 0.020324360579252243, 0.03289059177041054, -0.002106913598254323, -0.04192889854311943, 0.03402542322874069, 0.0008215781999751925, 0.019529595971107483, -0.038603417575359344, -0.007445941679179668, 0.037001051008701324, -0.005395454820245504, -0.04193488508462906, 0.04271044582128525, 0.0629352405667305, 0.009748334065079689, 0.018174724653363228, 0.07190056890249252, 0.03870325908064842, 0.03637441620230675, 0.019251065328717232, -0.018950659781694412, -0.01810254529118538, -0.014160754159092903, -0.032332487404346466, 0.01754510961472988, -0.01148226112127304, 0.017099248245358467, 0.045250412076711655, -0.0046727959997951984, -0.006578364409506321, 0.018720295280218124, -0.012606344185769558, -0.045549530535936356, -0.026702016592025757, -0.0319976806640625, -0.004220855887979269, -0.011591201648116112, 0.003929626662284136, -0.005057433154433966, 0.04968427121639252, -0.022951312363147736, 0.012736260890960693, 0.031178707256913185, 0.007413122337311506, -0.059961412101984024, -0.020850971341133118, 0.0011411072919145226, 0.05793057754635811, 0.008495383895933628, -0.0037067700177431107, -0.0024661989882588387, -0.005444541107863188, 0.09866929799318314, -0.035966478288173676, 0.022951900959014893, 0.038344793021678925, 0.00617340998724103, -0.009262084029614925, 0.05006919428706169, 0.03263961151242256, -0.06199970096349716, -0.019663212820887566, 0.05550048127770424, 0.04000626504421234, -0.031552754342556, -0.02206416055560112, -0.0026811787392944098, 0.005965308286249638, -0.017195167019963264, 0.004890931770205498, 0.038366854190826416, 0.016793053597211838, -0.04763663932681084, -0.014553872868418694, -0.010604367591440678, 0.04186859354376793, 0.07415129244327545, 0.02916909009218216, -0.02378578670322895, -0.00953463464975357, 0.045776691287755966, 0.05509628355503082, 0.01811324618756771, 0.007406311575323343, 0.005621072370558977, 0.07012889534235, 0.0058771828189492226, 0.022675547748804092, -0.0030392855405807495, -0.012895544059574604, 0.03818730637431145, 0.04143642261624336, 0.04095985367894173, -0.06706595420837402, 0.017009414732456207, 0.024558458477258682, -0.03460503742098808, 0.00930742546916008, -0.01432130765169859, 0.06302572786808014, 0.07293093204498291, -0.024847906082868576, -0.009189702570438385, 0.0444786511361599, -0.036032505333423615, 0.06134016811847687, 0.0496596023440361, -0.03366781771183014, -0.027596687898039818, 0.014541346579790115, 0.0007774914265610278, -0.018709879368543625, -0.01730053313076496, -0.041225653141736984, -0.021323751658201218, 0.03332417085766792, -0.012734639458358288, -0.0034653148613870144, 0.023483579978346825, 0.026507452130317688, 0.07110492885112762, 0.013100727461278439, -0.014229127205908298, 0.032087087631225586, 0.019115449860692024, -0.009048713371157646, -0.06170976161956787, 0.003936745226383209, -0.0073600998148322105, 0.0019108147826045752, -0.06119620427489281, 0.011114511638879776, 0.07284429669380188, -0.011765205301344395, 0.033944107592105865, 0.018498308956623077, -0.07402589172124863, 0.002664099680259824, -0.0346251018345356, -0.05730704590678215, 0.01427408866584301, -0.005441942717880011, 0.02810833789408207, 0.005634480156004429, -0.046368248760700226, 0.03096512332558632, -0.021370286121964455, -0.02285906672477722, 0.04983014240860939, -0.07536455243825912, 0.0010078034829348326, 0.018425073474645615, -0.023516705259680748, 0.0012486997293308377, -0.021587081253528595, -0.009447443298995495, 0.04870649054646492, 0.06875960528850555, -0.03860004246234894, 0.028260521590709686, 0.00022864104539621621, 0.009178278036415577, 0.059312622994184494, -0.038022782653570175, -0.041697755455970764, 0.032819706946611404, -0.029420645907521248, -0.03919832780957222, 0.03547251597046852, 0.057574834674596786, 0.023100024089217186, -0.026048142462968826, -0.03893733397126198, -0.028501244261860847, -0.045553550124168396, -0.037778377532958984, 0.018225301057100296, -0.007826537825167179, 0.007589023560285568, -0.0020745203364640474, -0.012177136726677418, 0.02828565612435341, -0.08050665259361267, 0.008296772837638855, -0.006402169819921255, 0.005894097965210676, -0.0014747208915650845, -0.060726821422576904, -0.03025568276643753, 0.04026966542005539, -0.022587019950151443, 0.02321246638894081, -0.018495434895157814, 0.04097443073987961, 0.05871354416012764, 0.0258434247225523, 0.016962671652436256, 0.0051167625933885574, 0.014468763954937458, -0.001956692198291421, -0.019817311316728592, 0.030550025403499603, -0.07857911288738251, 0.05197862163186073, 0.07075349986553192, 0.006522275973111391, 0.003505455795675516, 0.030733905732631683, 0.04563045874238014, -0.0626550167798996, -0.028987452387809753, -0.006644746288657188, -0.03183472901582718, 0.008730174973607063, 0.04131931811571121, -0.029031110927462578, 0.029955051839351654, -0.03268028050661087, -0.03776950016617775, -0.015277479775249958, -0.026470689103007317, -0.018995096907019615, -0.004530744627118111, 0.03832966461777687, -0.023810960352420807, 0.03006957285106182, -0.009746850468218327, 0.01652602106332779, -0.06356866657733917, -0.02439841628074646, -0.03910450264811516, 0.024985047057271004, 0.010367571376264095, 0.05018816515803337, -0.05538828670978546, 0.006887017283588648, 0.021483510732650757, 0.034040383994579315, -0.0019281660206615925, -0.004045647103339434, -0.03821944445371628, 0.0028515697922557592, -0.036330047994852066, -0.07642465084791183, -0.006891198456287384, 0.039996035397052765, -0.04380930960178375, 0.05612068623304367, -0.00849625002592802, 0.017179014161229134, -0.008081445470452309, -0.04962558671832085, -0.01381326001137495, 0.01431183610111475, -0.018169797956943512, 0.007938345894217491, 0.024645274505019188, -0.08128766715526581, 0.014050779864192009, 0.03945262357592583, 0.04551836848258972, -0.03353317081928253, -0.04282169044017792, -0.044226355850696564, -0.017443111166357994, -0.03751050680875778, 0.008679772727191448, 0.00937527883797884, 0.05116933584213257, 0.01600887067615986, 0.07571494579315186, -0.002069809939712286, -0.006738867610692978, -0.027150701731443405, 0.013967747800052166, 0.030881619080901146, 0.012815660797059536, 0.03896164894104004, 0.05887399613857269, 0.054595429450273514, 0.015521378256380558, 0.060500092804431915, 0.08950185030698776, 0.03614063188433647, -0.051107194274663925, 0.0461813323199749, 0.01753278821706772, 0.004863635636866093, -0.008337615057826042, -0.03033965453505516, -0.008295401930809021, -0.02730329893529415, -0.04570434242486954, -0.0920657068490982, -0.051352355629205704, 0.04407172277569771, -0.004396654199808836, -0.0037846665363758802, 0.0022176173515617847, -0.024500885978341103, -0.051320675760507584, -0.015863103792071342, -0.03361472487449646, 0.018898027017712593, -0.002411091234534979, -0.05205487832427025, 0.020221680402755737, 0.0226345993578434, 0.034902557730674744, -0.019445622339844704, -0.03918671980500221, -0.02676892653107643, 0.03841689974069595, 0.04036630690097809, 0.045378152281045914, -0.0023533240891993046, -0.11249110847711563, -0.016911137849092484, -0.05378897488117218, -0.09461180120706558, -0.033099465072155, -0.009998990222811699, -0.024604441598057747, -0.023600853979587555, -0.00644702510908246, -0.011233236640691757, -0.006342987064272165, 0.00884166732430458, -0.027632582932710648, 0.03829266503453255, 0.07093331962823868, -0.017018254846334457, -0.002402955899015069, 0.03620191290974617, -0.012872758321464062, -0.05298496037721634, -0.010772442445158958, 0.03499968722462654, -0.019828034564852715, -0.0012857518158853054, -0.027354508638381958, -0.020219100639224052, 0.003962622489780188, -0.00334820500575006, 0.054396964609622955, -0.005960959475487471, 0.05148209631443024, -0.04696914926171303, -0.02280600182712078, -0.058301012963056564, 0.0788579061627388, 0.047989968210458755, 0.029344910755753517, -0.025713788345456123, 0.004703839775174856, 0.007144871633499861, -0.024951912462711334, 0.012176630087196827, -0.00044664277811534703, -0.021027615293860435, -0.005519482772797346, 0.014933383092284203, -0.02173595502972603, -0.05779960751533508, 0.03410977125167847, 0.009884980507194996, 0.008386106230318546, -0.05540301650762558, -0.04599260911345482, -0.024270620197057724, -0.012271586805582047, -0.08310577273368835, -0.004564332310110331, -0.009912049397826195, -0.005263767670840025, -0.01741061545908451, 0.007793742697685957, -0.04376550391316414, 0.0002463742857798934, 0.032068345695734024, -0.030610667541623116, 0.03890262544155121, -0.09836772084236145, -0.02519192174077034, 0.003748615039512515, 0.02712377719581127, 0.008005533367395401, -0.031092267483472824, 0.0408918671309948, 0.10369003564119339, 0.029559504240751266, 0.022039253264665604, -0.036013681441545486, -0.011447906494140625, 0.016504185274243355, 0.008889241144061089, 0.018865827471017838, -0.019273366779088974, 0.008448697626590729]\n"
     ]
    }
   ],
   "source": [
    "query = \"This is my first embedding input\"\n",
    "vector = embedding_models.embed_query(query)\n",
    "print(len(vector), vector)"
   ]
  },
  {
   "cell_type": "code",
   "execution_count": 4,
   "metadata": {},
   "outputs": [
    {
     "data": {
      "text/plain": [
       "'CHAPTER     1. INTRODUCTION\\n\\n\\nwell-studied  parts  of the  brain  (Olshausen    and  Field,  2005).\\n    Neuroscience    has given  us a reason  to hope  that  a single deep  learning  algorithm\\ncan  solve many   diﬀerent  tasks.  Neuroscientists   have  found   that ferrets  can learn  to\\n“see” with  the  auditory  processing   region  of  their brain  if their brains  are rewired\\nto send  visual  signals to  that area  (Von   Melchner   et al., 2000).  This  suggests  that\\nmuch   of the  mammalian      brain  might   use a  single algorithm    to solve  most  of the\\ndiﬀerent   tasks  that  the  brain  solves.   Before   this hypothesis,    machine    learning\\nresearch  was  more   fragmented,    with  diﬀerent  communities     of researchers  studying\\nnatural  language   processing,  vision, motion   planning  and  speech  recognition.   Today,\\nthese application   communities    are  stillseparate,  but it is common    for deep  learning\\nresearch  groups  to study   many   or even  allof these  application   areas simultaneously.\\n    We  are  able to draw   some  rough  guidelines  from   neuroscience.   The  basic  idea of\\nhaving  many   computational    units  that become    intelligent only via  their interactions\\nwith  each  other  is inspired   by  the  brain.  The   Neocognitron     (Fukushima,     1980)\\nintroduced   a powerful   model   architecture   for processing   images   that  was  inspired\\nby  the  structure   of the  mammalian       visual  system   and   later became    the  basis\\nfor the  modern    convolutional    network    (LeCun    et al., 1998b),   as  we  will see  in\\nsection  9.10.  Most    neural  networks    today   are  based  on  a  model   neuron   called\\nthe rectiﬁed    linear   unit.   The  original  Cognitron   (Fukushima,     1975)  introduced\\na more   complicated    version   that  was  highly  inspired   by  our  knowledge    of brain\\nfunction.  The   simpliﬁed   modern    version  was   developed   incorporating    ideas  from\\nmany   viewpoints,    with  Nair  and   Hinton   (2010)  and   Glorot   et al. (2011a)   citing\\nneuroscience    as an  inﬂuence,    and  Jarrett  et  al. (2009)  citing  more   engineering-\\noriented  inﬂuences.    While   neuroscience    is an important    source   of inspiration,  it\\nneed  not  be  taken  as  a rigid guide.   We  know    that  actual  neurons   compute    very\\ndiﬀerent   functions  than   modern    rectiﬁed  linear  units, but  greater  neural   realism\\nhas  not yet  led to  an improvement      in machine   learning   performance.    Also,  while\\nneuroscience    has  successfully   inspired   several  neural   network   architectures,   we\\ndo  not yet  know   enough   about   biological  learning   for neuroscience   to  oﬀer  much\\nguidance   for the  learning  algorithms   we  use  to train  these  architectures.\\n    Media   accounts    often emphasize     the similarity   of deep  learning   to the  brain.\\nWhile  it istrue  that deep  learning  researchers   are more  likely to cite the brain  as an\\ninﬂuence   than  researchers   working   in other  machine    learning  ﬁelds  such  as kernel\\nmachines   or  Bayesian   statistics, one  should  not  view  deep   learning  as an  attempt\\nto simulate   the  brain.  Modern    deep  learning   draws  inspiration   from  many    ﬁelds,\\nespecially  applied  math   fundamentals     like linear algebra,  probability,   information\\ntheory,  and  numerical    optimization.     While   some   deep  learning   researchers   cite\\nneuroscience   as  an important    source  of inspiration,  others  are  not  concerned   with\\n\\n\\n                                              16'"
      ]
     },
     "execution_count": 4,
     "metadata": {},
     "output_type": "execute_result"
    }
   ],
   "source": [
    "from pypdf import PdfReader\n",
    "file_path = \"./deeplearningbook.pdf\"\n",
    "reader = PdfReader(file_path)\n",
    "reader.pages[30].extract_text(extraction_mode=\"layout\")"
   ]
  },
  {
   "cell_type": "code",
   "execution_count": 5,
   "metadata": {},
   "outputs": [
    {
     "name": "stderr",
     "output_type": "stream",
     "text": [
      "Rotated text discovered. Output will be incomplete.\n",
      "Rotated text discovered. Output will be incomplete.\n",
      "Rotated text discovered. Output will be incomplete.\n",
      "Rotated text discovered. Output will be incomplete.\n",
      "Rotated text discovered. Output will be incomplete.\n",
      "Rotated text discovered. Output will be incomplete.\n",
      "Rotated text discovered. Output will be incomplete.\n",
      "Rotated text discovered. Output will be incomplete.\n",
      "Rotated text discovered. Output will be incomplete.\n",
      "Rotated text discovered. Output will be incomplete.\n",
      "Rotated text discovered. Output will be incomplete.\n",
      "Rotated text discovered. Output will be incomplete.\n",
      "Rotated text discovered. Output will be incomplete.\n",
      "Rotated text discovered. Output will be incomplete.\n",
      "Rotated text discovered. Output will be incomplete.\n",
      "Rotated text discovered. Output will be incomplete.\n",
      "Rotated text discovered. Output will be incomplete.\n",
      "Rotated text discovered. Output will be incomplete.\n",
      "Rotated text discovered. Output will be incomplete.\n",
      "Rotated text discovered. Output will be incomplete.\n",
      "Rotated text discovered. Output will be incomplete.\n",
      "Rotated text discovered. Output will be incomplete.\n",
      "Rotated text discovered. Output will be incomplete.\n",
      "Rotated text discovered. Output will be incomplete.\n",
      "Rotated text discovered. Output will be incomplete.\n",
      "Rotated text discovered. Output will be incomplete.\n",
      "Rotated text discovered. Output will be incomplete.\n",
      "Rotated text discovered. Output will be incomplete.\n",
      "Rotated text discovered. Output will be incomplete.\n",
      "Rotated text discovered. Output will be incomplete.\n",
      "Rotated text discovered. Output will be incomplete.\n",
      "Rotated text discovered. Output will be incomplete.\n",
      "Rotated text discovered. Output will be incomplete.\n",
      "Rotated text discovered. Output will be incomplete.\n",
      "Rotated text discovered. Output will be incomplete.\n",
      "Rotated text discovered. Output will be incomplete.\n",
      "Rotated text discovered. Output will be incomplete.\n",
      "Rotated text discovered. Output will be incomplete.\n",
      "Rotated text discovered. Output will be incomplete.\n",
      "Rotated text discovered. Output will be incomplete.\n"
     ]
    },
    {
     "name": "stdout",
     "output_type": "stream",
     "text": [
      "2035\n",
      "page_content='Deep    Learning\n",
      "\n",
      "\n",
      "\n",
      "  Ian Goodfellow\n",
      "  Yoshua  Bengio\n",
      "  Aaron  Courville'\n"
     ]
    }
   ],
   "source": [
    "from langchain_experimental.text_splitter import SemanticChunker\n",
    "text_spliter = SemanticChunker(embedding_models)\n",
    "\n",
    "docs = text_spliter.create_documents([page.extract_text(extraction_mode=\"layout\") for page in reader.pages])\n",
    "# docs = text_spliter.create_documents()\n",
    "print(len(docs))\n",
    "print(docs[0]) \n"
   ]
  },
  {
   "cell_type": "code",
   "execution_count": 6,
   "metadata": {},
   "outputs": [
    {
     "name": "stderr",
     "output_type": "stream",
     "text": [
      "c:\\Users\\TrươngĐứcDũng\\Desktop\\AI\\RAG\\env\\Lib\\site-packages\\tqdm\\auto.py:21: TqdmWarning: IProgress not found. Please update jupyter and ipywidgets. See https://ipywidgets.readthedocs.io/en/stable/user_install.html\n",
      "  from .autonotebook import tqdm as notebook_tqdm\n"
     ]
    }
   ],
   "source": [
    "from qdrant_client import models, QdrantClient\n",
    "from sentence_transformers import SentenceTransformer"
   ]
  },
  {
   "cell_type": "code",
   "execution_count": 7,
   "metadata": {},
   "outputs": [],
   "source": [
    "encoder = SentenceTransformer(\"all-MiniLM-L6-v2\")"
   ]
  },
  {
   "cell_type": "code",
   "execution_count": 13,
   "metadata": {},
   "outputs": [],
   "source": [
    "client = QdrantClient(url=\"http://localhost:6333\")"
   ]
  },
  {
   "cell_type": "code",
   "execution_count": 14,
   "metadata": {},
   "outputs": [
    {
     "data": {
      "text/plain": [
       "True"
      ]
     },
     "execution_count": 14,
     "metadata": {},
     "output_type": "execute_result"
    }
   ],
   "source": [
    "client.create_collection(\n",
    "    collection_name=\"my_books\",\n",
    "    vectors_config=models.VectorParams(\n",
    "        size=encoder.get_sentence_embedding_dimension(),  # Vector size is defined by used model\n",
    "        distance=models.Distance.COSINE,\n",
    "    ),\n",
    ")"
   ]
  },
  {
   "cell_type": "code",
   "execution_count": 15,
   "metadata": {},
   "outputs": [
    {
     "name": "stdout",
     "output_type": "stream",
     "text": [
      ". 82\n",
      "     4.3     Gradient-Based      Optimization       . .\n"
     ]
    }
   ],
   "source": [
    "print(docs[26].page_content)"
   ]
  },
  {
   "cell_type": "code",
   "execution_count": 16,
   "metadata": {},
   "outputs": [],
   "source": [
    "client.upload_points(\n",
    "    collection_name=\"my_books\",\n",
    "    points=[\n",
    "        models.PointStruct(\n",
    "            id=idx, vector=encoder.encode(doc.page_content).tolist(), payload=dict(doc)\n",
    "        )\n",
    "        for idx, doc in enumerate(docs)\n",
    "    ],\n",
    ")"
   ]
  },
  {
   "cell_type": "code",
   "execution_count": 19,
   "metadata": {},
   "outputs": [
    {
     "name": "stdout",
     "output_type": "stream",
     "text": [
      "{'id': None, 'metadata': {}, 'page_content': 'For example,   if we  want  to use  a learning  algorithm\\nto perform   object  recognition   from  photographs,     we  need  to specify  which   object\\nappears   in each   of the  photos. We   might   do  this with   a numeric    code,  with  0\\nsignifying  a person,  1 signifying  a car,  2 signifying  a cat, etc. Often   when   working\\nwith  a  dataset   containing   a  design  matrix   of  feature  observations    X,   we  also\\nprovide  a  vector  of labels y, with   yi providing  the  label  for example   i. Of  course,  sometimes    the  label may   be  more   than  just  a single  number. For\\nexample,    ifwe   want   to train  a  speech   recognition   system   to  transcribe   entire\\nsentences,  then  the  label for  each  example   sentence   isa  sequence   of words. Just  as there  is no formal   deﬁnition   of supervised   and   unsupervised    learning,\\nthere is no rigid taxonomy    of datasets  or experiences.', 'type': 'Document'} score: 0.5783529\n",
      "{'id': None, 'metadata': {}, 'page_content': '. . . . . . . . . . . . . . . . . . . . . . . . . 242\\n     7.6     Semi-Supervised      Learning      . . . . . . . . . . . . . . . . . . . . . . 243\\n     7.7     Multi-Task     Learning     . . . . . . . . . . . . . . . . . . . . . . . .', 'type': 'Document'} score: 0.55576617\n",
      "{'id': None, 'metadata': {}, 'page_content': 'CHAPTER     5. MACHINE     LEARNING      BASICS\\n\\n\\ncan  solve the  supervised   learning  problem    of learning  p(y  |x)  by using  traditional\\nunsupervised\\xa0learning       technologies   to\\xa0learn\\xa0the     joint  distribution   p(x, y)  and\\ninferring\\n                                  p(y  |x) =   \\ue050p(x,   y)    . (5.2)\\n                                                  y\\ue030p(x, y\\ue030)\\n\\nThough   unsupervised    learning  and  supervised   learning  are not  completely   formal  or\\ndistinct concepts,   they  do help  to roughly   categorize  some   of the things  we  do with\\nmachine   learning  algorithms. Traditionally,   people  refer to regression,  classiﬁcation\\nand  structured    output   problems    as supervised    learning. Density    estimation   in\\nsupport   of other  tasks  is usually  considered   unsupervised    learning. Other   variants  of  the  learning  paradigm    are  possible.', 'type': 'Document'} score: 0.547322\n"
     ]
    }
   ],
   "source": [
    "user_query = \"I want to know about supervised learning\"\n",
    "hits = client.query_points(\n",
    "    collection_name=\"my_books\",\n",
    "    query=encoder.encode(user_query).tolist(),\n",
    "    limit=3,\n",
    ").points\n",
    "\n",
    "for hit in hits:\n",
    "    print(hit.payload, \"score:\", hit.score)"
   ]
  },
  {
   "cell_type": "code",
   "execution_count": 20,
   "metadata": {},
   "outputs": [],
   "source": [
    "\n",
    "meta_prompt = f\"\"\"\n",
    "Given the following data, answer the question:\n",
    "{user_query}\n",
    "Context:\n",
    "{hits}\n",
    "\"\"\""
   ]
  },
  {
   "cell_type": "code",
   "execution_count": 22,
   "metadata": {},
   "outputs": [
    {
     "name": "stdout",
     "output_type": "stream",
     "text": [
      "{\n",
      "  \"id\": \"chatcmpl-kb74xbdo1eeidis4p1zjnk\",\n",
      "  \"object\": \"chat.completion\",\n",
      "  \"created\": 1731637718,\n",
      "  \"model\": \"MaziyarPanahi/Mistral-7B-Instruct-v0.3-GGUF/Mistral-7B-Instruct-v0.3.Q8_0.gguf\",\n",
      "  \"choices\": [\n",
      "    {\n",
      "      \"index\": 0,\n",
      "      \"message\": {\n",
      "        \"role\": \"assistant\",\n",
      "        \"content\": \"\\nSupervised learning is a type of machine learning where a model is trained using labeled data. In this approach, the algorithm learns to make predictions based on input data (x) by adjusting its internal parameters to minimize the difference between predicted output (y_predicted) and actual output (y). The label or output can be a categorical variable such as '0' for person, '1' for car, etc., or a continuous value in regression problems. The labeled data provides information about the correct output for each input, which helps the algorithm to learn patterns and make accurate predictions on unseen data. Examples of supervised learning methods include linear regression, logistic regression, support vector machines, decision trees, random forests, and neural networks.\"\n",
      "      },\n",
      "      \"finish_reason\": \"stop\"\n",
      "    }\n",
      "  ],\n",
      "  \"usage\": {\n",
      "    \"prompt_tokens\": 928,\n",
      "    \"completion_tokens\": 156,\n",
      "    \"total_tokens\": 1084\n",
      "  }\n",
      "}\n"
     ]
    }
   ],
   "source": [
    "import requests\n",
    "\n",
    "url = \"http://localhost:1234/v1/chat/completions\"\n",
    "headers = {\n",
    "    \"Content-Type\": \"application/json\"\n",
    "}\n",
    "payload = {\n",
    "    \"model\": \"MaziyarPanahi/Mistral-7B-Instruct-v0.3-GGUF\",\n",
    "    \"messages\": [\n",
    "        {\"role\": \"system\", \"content\": \"Always answer base on provided context.\"},\n",
    "        {\"role\": \"user\", \"content\": meta_prompt}\n",
    "    ],\n",
    "    \"temperature\": 0.7,\n",
    "    \"max_tokens\": -1,\n",
    "    \"stream\": False\n",
    "}\n",
    "\n",
    "response = requests.post(url, json=payload, headers=headers, stream=True)\n",
    "\n",
    "if response.status_code == 200:\n",
    "    for line in response.iter_lines():\n",
    "        if line:\n",
    "            decoded_line = line.decode('utf-8')\n",
    "            print(decoded_line)\n",
    "else:\n",
    "    print(f\"Request failed with status code: {response.status_code}\")\n"
   ]
  },
  {
   "cell_type": "code",
   "execution_count": 25,
   "metadata": {},
   "outputs": [
    {
     "name": "stdout",
     "output_type": "stream",
     "text": [
      "Supervised learning is a machine learning technique where the algorithm learns from labeled data. In other words, it uses a dataset containing a design matrix of feature observations X and a vector of labels y to train a model that can make predictions on new, unseen data. The labels provide the correct answers for each example in the dataset, which helps the algorithm to learn the relationship between the features (X) and the label (y).\n",
      "\n"
     ]
    }
   ],
   "source": [
    "def chat_with_bot(user_query):\n",
    "    hits = client.query_points(\n",
    "        collection_name=\"my_books\",\n",
    "        query=encoder.encode(user_query).tolist(),\n",
    "        limit=3,\n",
    "    ).points\n",
    "    meta_prompt = f\"\"\"\n",
    "        Given the following data, answer the question:\n",
    "        {user_query}\n",
    "        Context:\n",
    "        {hits}\n",
    "    \"\"\"\n",
    "    url = \"http://localhost:1234/v1/chat/completions\"\n",
    "    headers = {\n",
    "        \"Content-Type\": \"application/json\"\n",
    "    }\n",
    "    payload = {\n",
    "        \"model\": \"MaziyarPanahi/Mistral-7B-Instruct-v0.3-GGUF\",\n",
    "        \"messages\": [\n",
    "            {\"role\": \"system\", \"content\": \"Always answer base on provided context.\"},\n",
    "            {\"role\": \"user\", \"content\": meta_prompt}\n",
    "        ],\n",
    "        \"temperature\": 0.7,\n",
    "        \"max_tokens\": -1,\n",
    "        \"stream\": False\n",
    "    }\n",
    "\n",
    "    response = requests.post(url, json=payload, headers=headers, stream=True)\n",
    "\n",
    "    if response.status_code == 200:\n",
    "        print(response.json()[\"choices\"][0][\"message\"][\"content\"])\n",
    "    else:\n",
    "        print(f\"Request failed with status code: {response.status_code}\")\n",
    "\n",
    "\n",
    "user_question = input(\"Vui lòng nhập câu hỏi: \")\n",
    "chat_with_bot(user_question)"
   ]
  }
 ],
 "metadata": {
  "kernelspec": {
   "display_name": "env",
   "language": "python",
   "name": "python3"
  },
  "language_info": {
   "codemirror_mode": {
    "name": "ipython",
    "version": 3
   },
   "file_extension": ".py",
   "mimetype": "text/x-python",
   "name": "python",
   "nbconvert_exporter": "python",
   "pygments_lexer": "ipython3",
   "version": "3.11.9"
  }
 },
 "nbformat": 4,
 "nbformat_minor": 2
}
